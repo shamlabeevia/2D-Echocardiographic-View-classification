{
 "cells": [
  {
   "cell_type": "markdown",
   "metadata": {},
   "source": [
    "# classification using ML models\n",
    "knn,svm, decision tree, random forest"
   ]
  },
  {
   "cell_type": "code",
   "execution_count": 1,
   "metadata": {},
   "outputs": [],
   "source": [
    "from yellowbrick.classifier import ROCAUC\n",
    "import numpy as np\n",
    "import cv2 \n",
    "import matplotlib.pyplot as plt\n",
    "import pandas as pd\n",
    "import seaborn as sns\n",
    "from sklearn import svm\n",
    "from sklearn.model_selection import train_test_split\n",
    "from sklearn.metrics import confusion_matrix, accuracy_score, classification_report"
   ]
  },
  {
   "cell_type": "code",
   "execution_count": 2,
   "metadata": {},
   "outputs": [
    {
     "data": {
      "text/html": [
       "<div>\n",
       "<style scoped>\n",
       "    .dataframe tbody tr th:only-of-type {\n",
       "        vertical-align: middle;\n",
       "    }\n",
       "\n",
       "    .dataframe tbody tr th {\n",
       "        vertical-align: top;\n",
       "    }\n",
       "\n",
       "    .dataframe thead th {\n",
       "        text-align: right;\n",
       "    }\n",
       "</style>\n",
       "<table border=\"1\" class=\"dataframe\">\n",
       "  <thead>\n",
       "    <tr style=\"text-align: right;\">\n",
       "      <th></th>\n",
       "      <th>Unnamed: 0</th>\n",
       "      <th>feature1</th>\n",
       "      <th>feature2</th>\n",
       "      <th>feature3</th>\n",
       "      <th>feature4</th>\n",
       "      <th>feature5</th>\n",
       "      <th>feature6</th>\n",
       "      <th>feature7</th>\n",
       "      <th>feature8</th>\n",
       "      <th>feature9</th>\n",
       "      <th>...</th>\n",
       "      <th>feature1016</th>\n",
       "      <th>feature1017</th>\n",
       "      <th>feature1018</th>\n",
       "      <th>feature1019</th>\n",
       "      <th>feature1020</th>\n",
       "      <th>feature1021</th>\n",
       "      <th>feature1022</th>\n",
       "      <th>feature1023</th>\n",
       "      <th>feature1024</th>\n",
       "      <th>views</th>\n",
       "    </tr>\n",
       "  </thead>\n",
       "  <tbody>\n",
       "    <tr>\n",
       "      <th>0</th>\n",
       "      <td>image1584</td>\n",
       "      <td>-0.464779</td>\n",
       "      <td>-0.467063</td>\n",
       "      <td>1.261675</td>\n",
       "      <td>-0.383177</td>\n",
       "      <td>-0.566576</td>\n",
       "      <td>-0.550762</td>\n",
       "      <td>-0.408046</td>\n",
       "      <td>-0.466499</td>\n",
       "      <td>-0.32368</td>\n",
       "      <td>...</td>\n",
       "      <td>-0.450566</td>\n",
       "      <td>-0.570958</td>\n",
       "      <td>-0.495311</td>\n",
       "      <td>-0.354169</td>\n",
       "      <td>-0.447869</td>\n",
       "      <td>-0.375996</td>\n",
       "      <td>-0.478856</td>\n",
       "      <td>-0.614808</td>\n",
       "      <td>-0.524925</td>\n",
       "      <td>PSAX</td>\n",
       "    </tr>\n",
       "    <tr>\n",
       "      <th>1</th>\n",
       "      <td>image17</td>\n",
       "      <td>-0.464779</td>\n",
       "      <td>-0.467063</td>\n",
       "      <td>1.261675</td>\n",
       "      <td>-0.383177</td>\n",
       "      <td>0.821362</td>\n",
       "      <td>-0.550762</td>\n",
       "      <td>-0.408046</td>\n",
       "      <td>-0.466499</td>\n",
       "      <td>-0.32368</td>\n",
       "      <td>...</td>\n",
       "      <td>-0.450566</td>\n",
       "      <td>-0.570958</td>\n",
       "      <td>-0.495311</td>\n",
       "      <td>-0.354169</td>\n",
       "      <td>-0.447869</td>\n",
       "      <td>-0.375996</td>\n",
       "      <td>-0.478856</td>\n",
       "      <td>0.744197</td>\n",
       "      <td>0.755127</td>\n",
       "      <td>A2c</td>\n",
       "    </tr>\n",
       "    <tr>\n",
       "      <th>2</th>\n",
       "      <td>image864</td>\n",
       "      <td>-0.464779</td>\n",
       "      <td>-0.467063</td>\n",
       "      <td>-0.459472</td>\n",
       "      <td>-0.383177</td>\n",
       "      <td>-0.566576</td>\n",
       "      <td>-0.550762</td>\n",
       "      <td>-0.408046</td>\n",
       "      <td>-0.466499</td>\n",
       "      <td>-0.32368</td>\n",
       "      <td>...</td>\n",
       "      <td>-0.450566</td>\n",
       "      <td>-0.570958</td>\n",
       "      <td>-0.495311</td>\n",
       "      <td>-0.354169</td>\n",
       "      <td>-0.447869</td>\n",
       "      <td>-0.375996</td>\n",
       "      <td>-0.478856</td>\n",
       "      <td>-0.614808</td>\n",
       "      <td>-0.524925</td>\n",
       "      <td>PLAX</td>\n",
       "    </tr>\n",
       "    <tr>\n",
       "      <th>3</th>\n",
       "      <td>image695</td>\n",
       "      <td>-0.464779</td>\n",
       "      <td>-0.467063</td>\n",
       "      <td>-0.459472</td>\n",
       "      <td>-0.383177</td>\n",
       "      <td>0.821362</td>\n",
       "      <td>0.764356</td>\n",
       "      <td>-0.408046</td>\n",
       "      <td>0.697575</td>\n",
       "      <td>-0.32368</td>\n",
       "      <td>...</td>\n",
       "      <td>-0.450566</td>\n",
       "      <td>-0.570958</td>\n",
       "      <td>1.000863</td>\n",
       "      <td>-0.354169</td>\n",
       "      <td>-0.447869</td>\n",
       "      <td>-0.375996</td>\n",
       "      <td>0.989697</td>\n",
       "      <td>0.744197</td>\n",
       "      <td>-0.524925</td>\n",
       "      <td>A4c</td>\n",
       "    </tr>\n",
       "    <tr>\n",
       "      <th>4</th>\n",
       "      <td>image605</td>\n",
       "      <td>-0.464779</td>\n",
       "      <td>-0.467063</td>\n",
       "      <td>-0.459472</td>\n",
       "      <td>-0.383177</td>\n",
       "      <td>2.209299</td>\n",
       "      <td>-0.550762</td>\n",
       "      <td>-0.408046</td>\n",
       "      <td>-0.466499</td>\n",
       "      <td>-0.32368</td>\n",
       "      <td>...</td>\n",
       "      <td>1.229387</td>\n",
       "      <td>-0.570958</td>\n",
       "      <td>-0.495311</td>\n",
       "      <td>0.991337</td>\n",
       "      <td>-0.447869</td>\n",
       "      <td>-0.375996</td>\n",
       "      <td>-0.478856</td>\n",
       "      <td>-0.614808</td>\n",
       "      <td>-0.524925</td>\n",
       "      <td>A4c</td>\n",
       "    </tr>\n",
       "  </tbody>\n",
       "</table>\n",
       "<p>5 rows × 1026 columns</p>\n",
       "</div>"
      ],
      "text/plain": [
       "  Unnamed: 0  feature1  feature2  feature3  feature4  feature5  feature6  \\\n",
       "0  image1584 -0.464779 -0.467063  1.261675 -0.383177 -0.566576 -0.550762   \n",
       "1    image17 -0.464779 -0.467063  1.261675 -0.383177  0.821362 -0.550762   \n",
       "2   image864 -0.464779 -0.467063 -0.459472 -0.383177 -0.566576 -0.550762   \n",
       "3   image695 -0.464779 -0.467063 -0.459472 -0.383177  0.821362  0.764356   \n",
       "4   image605 -0.464779 -0.467063 -0.459472 -0.383177  2.209299 -0.550762   \n",
       "\n",
       "   feature7  feature8  feature9  ...  feature1016  feature1017  feature1018  \\\n",
       "0 -0.408046 -0.466499  -0.32368  ...    -0.450566    -0.570958    -0.495311   \n",
       "1 -0.408046 -0.466499  -0.32368  ...    -0.450566    -0.570958    -0.495311   \n",
       "2 -0.408046 -0.466499  -0.32368  ...    -0.450566    -0.570958    -0.495311   \n",
       "3 -0.408046  0.697575  -0.32368  ...    -0.450566    -0.570958     1.000863   \n",
       "4 -0.408046 -0.466499  -0.32368  ...     1.229387    -0.570958    -0.495311   \n",
       "\n",
       "   feature1019  feature1020  feature1021  feature1022  feature1023  \\\n",
       "0    -0.354169    -0.447869    -0.375996    -0.478856    -0.614808   \n",
       "1    -0.354169    -0.447869    -0.375996    -0.478856     0.744197   \n",
       "2    -0.354169    -0.447869    -0.375996    -0.478856    -0.614808   \n",
       "3    -0.354169    -0.447869    -0.375996     0.989697     0.744197   \n",
       "4     0.991337    -0.447869    -0.375996    -0.478856    -0.614808   \n",
       "\n",
       "   feature1024  views  \n",
       "0    -0.524925   PSAX  \n",
       "1     0.755127    A2c  \n",
       "2    -0.524925   PLAX  \n",
       "3    -0.524925    A4c  \n",
       "4    -0.524925    A4c  \n",
       "\n",
       "[5 rows x 1026 columns]"
      ]
     },
     "execution_count": 2,
     "metadata": {},
     "output_type": "execute_result"
    }
   ],
   "source": [
    "df = pd.read_csv(\"ORB_new_features_SRAD_1607.csv\")\n",
    "df.head()"
   ]
  },
  {
   "cell_type": "code",
   "execution_count": 3,
   "metadata": {},
   "outputs": [
    {
     "data": {
      "text/plain": [
       "1607"
      ]
     },
     "execution_count": 3,
     "metadata": {},
     "output_type": "execute_result"
    }
   ],
   "source": [
    "len(df)"
   ]
  },
  {
   "cell_type": "markdown",
   "metadata": {},
   "source": [
    "df = df.replace({\"views\":  {\"PSAX\":1,\"PLAX\":2, \"A4c\":3,\"A2c\":4}})\n",
    "df[\"views\"]"
   ]
  },
  {
   "cell_type": "code",
   "execution_count": 4,
   "metadata": {},
   "outputs": [
    {
     "data": {
      "text/html": [
       "<div>\n",
       "<style scoped>\n",
       "    .dataframe tbody tr th:only-of-type {\n",
       "        vertical-align: middle;\n",
       "    }\n",
       "\n",
       "    .dataframe tbody tr th {\n",
       "        vertical-align: top;\n",
       "    }\n",
       "\n",
       "    .dataframe thead th {\n",
       "        text-align: right;\n",
       "    }\n",
       "</style>\n",
       "<table border=\"1\" class=\"dataframe\">\n",
       "  <thead>\n",
       "    <tr style=\"text-align: right;\">\n",
       "      <th></th>\n",
       "      <th>feature1</th>\n",
       "      <th>feature2</th>\n",
       "      <th>feature3</th>\n",
       "      <th>feature4</th>\n",
       "      <th>feature5</th>\n",
       "      <th>feature6</th>\n",
       "      <th>feature7</th>\n",
       "      <th>feature8</th>\n",
       "      <th>feature9</th>\n",
       "      <th>feature10</th>\n",
       "      <th>...</th>\n",
       "      <th>feature1015</th>\n",
       "      <th>feature1016</th>\n",
       "      <th>feature1017</th>\n",
       "      <th>feature1018</th>\n",
       "      <th>feature1019</th>\n",
       "      <th>feature1020</th>\n",
       "      <th>feature1021</th>\n",
       "      <th>feature1022</th>\n",
       "      <th>feature1023</th>\n",
       "      <th>feature1024</th>\n",
       "    </tr>\n",
       "  </thead>\n",
       "  <tbody>\n",
       "    <tr>\n",
       "      <th>0</th>\n",
       "      <td>-0.464779</td>\n",
       "      <td>-0.467063</td>\n",
       "      <td>1.261675</td>\n",
       "      <td>-0.383177</td>\n",
       "      <td>-0.566576</td>\n",
       "      <td>-0.550762</td>\n",
       "      <td>-0.408046</td>\n",
       "      <td>-0.466499</td>\n",
       "      <td>-0.32368</td>\n",
       "      <td>-0.523233</td>\n",
       "      <td>...</td>\n",
       "      <td>-0.618462</td>\n",
       "      <td>-0.450566</td>\n",
       "      <td>-0.570958</td>\n",
       "      <td>-0.495311</td>\n",
       "      <td>-0.354169</td>\n",
       "      <td>-0.447869</td>\n",
       "      <td>-0.375996</td>\n",
       "      <td>-0.478856</td>\n",
       "      <td>-0.614808</td>\n",
       "      <td>-0.524925</td>\n",
       "    </tr>\n",
       "    <tr>\n",
       "      <th>1</th>\n",
       "      <td>-0.464779</td>\n",
       "      <td>-0.467063</td>\n",
       "      <td>1.261675</td>\n",
       "      <td>-0.383177</td>\n",
       "      <td>0.821362</td>\n",
       "      <td>-0.550762</td>\n",
       "      <td>-0.408046</td>\n",
       "      <td>-0.466499</td>\n",
       "      <td>-0.32368</td>\n",
       "      <td>-0.523233</td>\n",
       "      <td>...</td>\n",
       "      <td>-0.618462</td>\n",
       "      <td>-0.450566</td>\n",
       "      <td>-0.570958</td>\n",
       "      <td>-0.495311</td>\n",
       "      <td>-0.354169</td>\n",
       "      <td>-0.447869</td>\n",
       "      <td>-0.375996</td>\n",
       "      <td>-0.478856</td>\n",
       "      <td>0.744197</td>\n",
       "      <td>0.755127</td>\n",
       "    </tr>\n",
       "    <tr>\n",
       "      <th>2</th>\n",
       "      <td>-0.464779</td>\n",
       "      <td>-0.467063</td>\n",
       "      <td>-0.459472</td>\n",
       "      <td>-0.383177</td>\n",
       "      <td>-0.566576</td>\n",
       "      <td>-0.550762</td>\n",
       "      <td>-0.408046</td>\n",
       "      <td>-0.466499</td>\n",
       "      <td>-0.32368</td>\n",
       "      <td>2.528802</td>\n",
       "      <td>...</td>\n",
       "      <td>0.779385</td>\n",
       "      <td>-0.450566</td>\n",
       "      <td>-0.570958</td>\n",
       "      <td>-0.495311</td>\n",
       "      <td>-0.354169</td>\n",
       "      <td>-0.447869</td>\n",
       "      <td>-0.375996</td>\n",
       "      <td>-0.478856</td>\n",
       "      <td>-0.614808</td>\n",
       "      <td>-0.524925</td>\n",
       "    </tr>\n",
       "    <tr>\n",
       "      <th>3</th>\n",
       "      <td>-0.464779</td>\n",
       "      <td>-0.467063</td>\n",
       "      <td>-0.459472</td>\n",
       "      <td>-0.383177</td>\n",
       "      <td>0.821362</td>\n",
       "      <td>0.764356</td>\n",
       "      <td>-0.408046</td>\n",
       "      <td>0.697575</td>\n",
       "      <td>-0.32368</td>\n",
       "      <td>-0.523233</td>\n",
       "      <td>...</td>\n",
       "      <td>-0.618462</td>\n",
       "      <td>-0.450566</td>\n",
       "      <td>-0.570958</td>\n",
       "      <td>1.000863</td>\n",
       "      <td>-0.354169</td>\n",
       "      <td>-0.447869</td>\n",
       "      <td>-0.375996</td>\n",
       "      <td>0.989697</td>\n",
       "      <td>0.744197</td>\n",
       "      <td>-0.524925</td>\n",
       "    </tr>\n",
       "    <tr>\n",
       "      <th>4</th>\n",
       "      <td>-0.464779</td>\n",
       "      <td>-0.467063</td>\n",
       "      <td>-0.459472</td>\n",
       "      <td>-0.383177</td>\n",
       "      <td>2.209299</td>\n",
       "      <td>-0.550762</td>\n",
       "      <td>-0.408046</td>\n",
       "      <td>-0.466499</td>\n",
       "      <td>-0.32368</td>\n",
       "      <td>-0.523233</td>\n",
       "      <td>...</td>\n",
       "      <td>0.779385</td>\n",
       "      <td>1.229387</td>\n",
       "      <td>-0.570958</td>\n",
       "      <td>-0.495311</td>\n",
       "      <td>0.991337</td>\n",
       "      <td>-0.447869</td>\n",
       "      <td>-0.375996</td>\n",
       "      <td>-0.478856</td>\n",
       "      <td>-0.614808</td>\n",
       "      <td>-0.524925</td>\n",
       "    </tr>\n",
       "  </tbody>\n",
       "</table>\n",
       "<p>5 rows × 1024 columns</p>\n",
       "</div>"
      ],
      "text/plain": [
       "   feature1  feature2  feature3  feature4  feature5  feature6  feature7  \\\n",
       "0 -0.464779 -0.467063  1.261675 -0.383177 -0.566576 -0.550762 -0.408046   \n",
       "1 -0.464779 -0.467063  1.261675 -0.383177  0.821362 -0.550762 -0.408046   \n",
       "2 -0.464779 -0.467063 -0.459472 -0.383177 -0.566576 -0.550762 -0.408046   \n",
       "3 -0.464779 -0.467063 -0.459472 -0.383177  0.821362  0.764356 -0.408046   \n",
       "4 -0.464779 -0.467063 -0.459472 -0.383177  2.209299 -0.550762 -0.408046   \n",
       "\n",
       "   feature8  feature9  feature10  ...  feature1015  feature1016  feature1017  \\\n",
       "0 -0.466499  -0.32368  -0.523233  ...    -0.618462    -0.450566    -0.570958   \n",
       "1 -0.466499  -0.32368  -0.523233  ...    -0.618462    -0.450566    -0.570958   \n",
       "2 -0.466499  -0.32368   2.528802  ...     0.779385    -0.450566    -0.570958   \n",
       "3  0.697575  -0.32368  -0.523233  ...    -0.618462    -0.450566    -0.570958   \n",
       "4 -0.466499  -0.32368  -0.523233  ...     0.779385     1.229387    -0.570958   \n",
       "\n",
       "   feature1018  feature1019  feature1020  feature1021  feature1022  \\\n",
       "0    -0.495311    -0.354169    -0.447869    -0.375996    -0.478856   \n",
       "1    -0.495311    -0.354169    -0.447869    -0.375996    -0.478856   \n",
       "2    -0.495311    -0.354169    -0.447869    -0.375996    -0.478856   \n",
       "3     1.000863    -0.354169    -0.447869    -0.375996     0.989697   \n",
       "4    -0.495311     0.991337    -0.447869    -0.375996    -0.478856   \n",
       "\n",
       "   feature1023  feature1024  \n",
       "0    -0.614808    -0.524925  \n",
       "1     0.744197     0.755127  \n",
       "2    -0.614808    -0.524925  \n",
       "3     0.744197    -0.524925  \n",
       "4    -0.614808    -0.524925  \n",
       "\n",
       "[5 rows x 1024 columns]"
      ]
     },
     "execution_count": 4,
     "metadata": {},
     "output_type": "execute_result"
    }
   ],
   "source": [
    "X = df.iloc[:,1:1025]\n",
    "X.head()"
   ]
  },
  {
   "cell_type": "code",
   "execution_count": 5,
   "metadata": {},
   "outputs": [
    {
     "data": {
      "text/plain": [
       "0    PSAX\n",
       "1     A2c\n",
       "2    PLAX\n",
       "3     A4c\n",
       "4     A4c\n",
       "Name: views, dtype: object"
      ]
     },
     "execution_count": 5,
     "metadata": {},
     "output_type": "execute_result"
    }
   ],
   "source": [
    "Y = df[\"views\"]\n",
    "Y.head()"
   ]
  },
  {
   "cell_type": "code",
   "execution_count": 6,
   "metadata": {},
   "outputs": [
    {
     "data": {
      "text/plain": [
       "(1607, 1024)"
      ]
     },
     "execution_count": 6,
     "metadata": {},
     "output_type": "execute_result"
    }
   ],
   "source": [
    "x_array = np.array(X)\n",
    "x_array.shape"
   ]
  },
  {
   "cell_type": "code",
   "execution_count": 7,
   "metadata": {},
   "outputs": [],
   "source": [
    "def plotHistogram(im_features=X, no_clusters=1024):\n",
    "    x_scalar = np.arange(no_clusters)\n",
    "    y_scalar = np.array([abs(np.sum(im_features[:,h], dtype=np.int32)) for h in range(no_clusters)])\n",
    "    plt.bar(x_scalar, y_scalar)\n",
    "    plt.xlabel(\"Visual Word Index\")\n",
    "    plt.ylabel(\"Frequency\")\n",
    "    plt.title(\"Complete Vocabulary Generated\")\n",
    "    plt.xticks(x_scalar + 0.4, x_scalar)\n",
    "    plt.savefig(\"D:/Ratheesha/MTechsem4/models/ml_model_featureextract/hist_orb1\")\n",
    "    plt.show()"
   ]
  },
  {
   "cell_type": "code",
   "execution_count": 8,
   "metadata": {},
   "outputs": [
    {
     "data": {
      "image/png": "[encoded data removed]",
      "text/plain": [
       "<Figure size 576x396 with 1 Axes>"
      ]
     },
     "metadata": {},
     "output_type": "display_data"
    }
   ],
   "source": [
    "plotHistogram(x_array)"
   ]
  },
  {
   "cell_type": "code",
   "execution_count": 9,
   "metadata": {},
   "outputs": [
    {
     "data": {
      "text/html": [
       "<div>\n",
       "<style scoped>\n",
       "    .dataframe tbody tr th:only-of-type {\n",
       "        vertical-align: middle;\n",
       "    }\n",
       "\n",
       "    .dataframe tbody tr th {\n",
       "        vertical-align: top;\n",
       "    }\n",
       "\n",
       "    .dataframe thead th {\n",
       "        text-align: right;\n",
       "    }\n",
       "</style>\n",
       "<table border=\"1\" class=\"dataframe\">\n",
       "  <thead>\n",
       "    <tr style=\"text-align: right;\">\n",
       "      <th></th>\n",
       "      <th>Unnamed: 0</th>\n",
       "      <th>feature1</th>\n",
       "      <th>feature2</th>\n",
       "      <th>feature3</th>\n",
       "      <th>feature4</th>\n",
       "      <th>feature5</th>\n",
       "      <th>feature6</th>\n",
       "      <th>feature7</th>\n",
       "      <th>feature8</th>\n",
       "      <th>feature9</th>\n",
       "      <th>...</th>\n",
       "      <th>feature1015</th>\n",
       "      <th>feature1016</th>\n",
       "      <th>feature1017</th>\n",
       "      <th>feature1018</th>\n",
       "      <th>feature1019</th>\n",
       "      <th>feature1020</th>\n",
       "      <th>feature1021</th>\n",
       "      <th>feature1022</th>\n",
       "      <th>feature1023</th>\n",
       "      <th>feature1024</th>\n",
       "    </tr>\n",
       "    <tr>\n",
       "      <th>views</th>\n",
       "      <th></th>\n",
       "      <th></th>\n",
       "      <th></th>\n",
       "      <th></th>\n",
       "      <th></th>\n",
       "      <th></th>\n",
       "      <th></th>\n",
       "      <th></th>\n",
       "      <th></th>\n",
       "      <th></th>\n",
       "      <th></th>\n",
       "      <th></th>\n",
       "      <th></th>\n",
       "      <th></th>\n",
       "      <th></th>\n",
       "      <th></th>\n",
       "      <th></th>\n",
       "      <th></th>\n",
       "      <th></th>\n",
       "      <th></th>\n",
       "      <th></th>\n",
       "    </tr>\n",
       "  </thead>\n",
       "  <tbody>\n",
       "    <tr>\n",
       "      <th>A2c</th>\n",
       "      <td>401</td>\n",
       "      <td>401</td>\n",
       "      <td>401</td>\n",
       "      <td>401</td>\n",
       "      <td>401</td>\n",
       "      <td>401</td>\n",
       "      <td>401</td>\n",
       "      <td>401</td>\n",
       "      <td>401</td>\n",
       "      <td>401</td>\n",
       "      <td>...</td>\n",
       "      <td>401</td>\n",
       "      <td>401</td>\n",
       "      <td>401</td>\n",
       "      <td>401</td>\n",
       "      <td>401</td>\n",
       "      <td>401</td>\n",
       "      <td>401</td>\n",
       "      <td>401</td>\n",
       "      <td>401</td>\n",
       "      <td>401</td>\n",
       "    </tr>\n",
       "    <tr>\n",
       "      <th>A4c</th>\n",
       "      <td>401</td>\n",
       "      <td>401</td>\n",
       "      <td>401</td>\n",
       "      <td>401</td>\n",
       "      <td>401</td>\n",
       "      <td>401</td>\n",
       "      <td>401</td>\n",
       "      <td>401</td>\n",
       "      <td>401</td>\n",
       "      <td>401</td>\n",
       "      <td>...</td>\n",
       "      <td>401</td>\n",
       "      <td>401</td>\n",
       "      <td>401</td>\n",
       "      <td>401</td>\n",
       "      <td>401</td>\n",
       "      <td>401</td>\n",
       "      <td>401</td>\n",
       "      <td>401</td>\n",
       "      <td>401</td>\n",
       "      <td>401</td>\n",
       "    </tr>\n",
       "    <tr>\n",
       "      <th>PLAX</th>\n",
       "      <td>404</td>\n",
       "      <td>404</td>\n",
       "      <td>404</td>\n",
       "      <td>404</td>\n",
       "      <td>404</td>\n",
       "      <td>404</td>\n",
       "      <td>404</td>\n",
       "      <td>404</td>\n",
       "      <td>404</td>\n",
       "      <td>404</td>\n",
       "      <td>...</td>\n",
       "      <td>404</td>\n",
       "      <td>404</td>\n",
       "      <td>404</td>\n",
       "      <td>404</td>\n",
       "      <td>404</td>\n",
       "      <td>404</td>\n",
       "      <td>404</td>\n",
       "      <td>404</td>\n",
       "      <td>404</td>\n",
       "      <td>404</td>\n",
       "    </tr>\n",
       "    <tr>\n",
       "      <th>PSAX</th>\n",
       "      <td>401</td>\n",
       "      <td>401</td>\n",
       "      <td>401</td>\n",
       "      <td>401</td>\n",
       "      <td>401</td>\n",
       "      <td>401</td>\n",
       "      <td>401</td>\n",
       "      <td>401</td>\n",
       "      <td>401</td>\n",
       "      <td>401</td>\n",
       "      <td>...</td>\n",
       "      <td>401</td>\n",
       "      <td>401</td>\n",
       "      <td>401</td>\n",
       "      <td>401</td>\n",
       "      <td>401</td>\n",
       "      <td>401</td>\n",
       "      <td>401</td>\n",
       "      <td>401</td>\n",
       "      <td>401</td>\n",
       "      <td>401</td>\n",
       "    </tr>\n",
       "  </tbody>\n",
       "</table>\n",
       "<p>4 rows × 1025 columns</p>\n",
       "</div>"
      ],
      "text/plain": [
       "       Unnamed: 0  feature1  feature2  feature3  feature4  feature5  feature6  \\\n",
       "views                                                                           \n",
       "A2c           401       401       401       401       401       401       401   \n",
       "A4c           401       401       401       401       401       401       401   \n",
       "PLAX          404       404       404       404       404       404       404   \n",
       "PSAX          401       401       401       401       401       401       401   \n",
       "\n",
       "       feature7  feature8  feature9  ...  feature1015  feature1016  \\\n",
       "views                                ...                             \n",
       "A2c         401       401       401  ...          401          401   \n",
       "A4c         401       401       401  ...          401          401   \n",
       "PLAX        404       404       404  ...          404          404   \n",
       "PSAX        401       401       401  ...          401          401   \n",
       "\n",
       "       feature1017  feature1018  feature1019  feature1020  feature1021  \\\n",
       "views                                                                    \n",
       "A2c            401          401          401          401          401   \n",
       "A4c            401          401          401          401          401   \n",
       "PLAX           404          404          404          404          404   \n",
       "PSAX           401          401          401          401          401   \n",
       "\n",
       "       feature1022  feature1023  feature1024  \n",
       "views                                         \n",
       "A2c            401          401          401  \n",
       "A4c            401          401          401  \n",
       "PLAX           404          404          404  \n",
       "PSAX           401          401          401  \n",
       "\n",
       "[4 rows x 1025 columns]"
      ]
     },
     "execution_count": 9,
     "metadata": {},
     "output_type": "execute_result"
    }
   ],
   "source": [
    "df.groupby(['views']).count()\n",
    "#Y.count('PLAX')\n",
    "#Y.count('A2c')\n",
    "#Y.count('A4c')"
   ]
  },
  {
   "cell_type": "code",
   "execution_count": 10,
   "metadata": {},
   "outputs": [],
   "source": [
    "X_train, X_test, y_train, y_test = train_test_split(X, Y, test_size = 0.25, random_state = 0)"
   ]
  },
  {
   "cell_type": "markdown",
   "metadata": {},
   "source": [
    "# svm"
   ]
  },
  {
   "cell_type": "code",
   "execution_count": 11,
   "metadata": {},
   "outputs": [],
   "source": [
    "classifier = svm.SVC(kernel ='poly',random_state = 0,gamma=10)\n",
    "#Fit the model for the data\n",
    "\n",
    "classifier.fit(X_train, y_train)\n",
    "\n",
    "#Make the prediction\n",
    "y_pred = classifier.predict(X_test)"
   ]
  },
  {
   "cell_type": "code",
   "execution_count": 12,
   "metadata": {},
   "outputs": [
    {
     "data": {
      "text/plain": [
       "array(['PLAX', 'A2c', 'PSAX', 'A4c', 'PLAX', 'PLAX', 'A4c', 'A2c', 'PLAX',\n",
       "       'PSAX', 'A2c', 'PSAX', 'PLAX', 'A4c', 'PSAX', 'PLAX', 'A2c', 'A2c',\n",
       "       'A2c', 'A4c', 'A4c', 'PLAX', 'PLAX', 'A4c', 'PSAX', 'PLAX', 'A4c',\n",
       "       'A4c', 'PSAX', 'PSAX', 'A4c', 'A2c', 'A2c', 'A2c', 'PLAX', 'PLAX',\n",
       "       'A2c', 'PSAX', 'A4c', 'PSAX', 'A4c', 'PSAX', 'PLAX', 'PSAX',\n",
       "       'PSAX', 'PLAX', 'A2c', 'A2c', 'PSAX', 'A4c', 'A2c', 'PLAX', 'PSAX',\n",
       "       'PLAX', 'A2c', 'PLAX', 'A2c', 'PLAX', 'A2c', 'PLAX', 'PLAX', 'A2c',\n",
       "       'PLAX', 'A2c', 'PSAX', 'A2c', 'PSAX', 'PSAX', 'A2c', 'PLAX',\n",
       "       'PLAX', 'A4c', 'A2c', 'A4c', 'A2c', 'PLAX', 'PSAX', 'A2c', 'A2c',\n",
       "       'A2c', 'A2c', 'A2c', 'PSAX', 'A2c', 'A4c', 'A4c', 'A4c', 'PLAX',\n",
       "       'PLAX', 'PSAX', 'A2c', 'PLAX', 'A2c', 'PSAX', 'A2c', 'PSAX',\n",
       "       'PSAX', 'A2c', 'PLAX', 'PSAX', 'A2c', 'PLAX', 'A2c', 'PLAX', 'A2c',\n",
       "       'PLAX', 'PSAX', 'PLAX', 'PLAX', 'PSAX', 'A4c', 'PSAX', 'PSAX',\n",
       "       'PSAX', 'PLAX', 'PLAX', 'A2c', 'PLAX', 'A2c', 'PLAX', 'A4c', 'A4c',\n",
       "       'PSAX', 'A4c', 'A2c', 'PLAX', 'PLAX', 'PLAX', 'A4c', 'PLAX', 'A4c',\n",
       "       'A4c', 'A2c', 'PLAX', 'PSAX', 'PLAX', 'PLAX', 'A4c', 'PLAX',\n",
       "       'PLAX', 'A4c', 'A4c', 'PLAX', 'PLAX', 'A4c', 'PSAX', 'A4c', 'PSAX',\n",
       "       'A4c', 'PLAX', 'PSAX', 'PLAX', 'A2c', 'PLAX', 'A2c', 'PLAX',\n",
       "       'PLAX', 'A2c', 'A4c', 'PSAX', 'PLAX', 'PSAX', 'A2c', 'PLAX', 'A2c',\n",
       "       'A2c', 'A4c', 'PLAX', 'PLAX', 'A2c', 'A4c', 'PLAX', 'PSAX', 'PSAX',\n",
       "       'PSAX', 'A4c', 'PLAX', 'A4c', 'A2c', 'PSAX', 'PLAX', 'PLAX', 'A4c',\n",
       "       'PLAX', 'PLAX', 'A4c', 'PLAX', 'PSAX', 'A2c', 'A2c', 'A4c', 'A4c',\n",
       "       'PSAX', 'A4c', 'PLAX', 'PLAX', 'PLAX', 'A4c', 'A4c', 'A2c', 'A4c',\n",
       "       'A2c', 'PSAX', 'A4c', 'PLAX', 'A4c', 'PSAX', 'A4c', 'A4c', 'A2c',\n",
       "       'PSAX', 'A2c', 'A2c', 'A4c', 'A4c', 'PSAX', 'A4c', 'A4c', 'A4c',\n",
       "       'PLAX', 'A2c', 'PLAX', 'PLAX', 'PSAX', 'A4c', 'A4c', 'A2c', 'A4c',\n",
       "       'PLAX', 'A2c', 'A4c', 'A2c', 'PLAX', 'PLAX', 'A4c', 'A2c', 'PSAX',\n",
       "       'A2c', 'A2c', 'PLAX', 'PLAX', 'PSAX', 'PSAX', 'A4c', 'A2c', 'PLAX',\n",
       "       'PLAX', 'PSAX', 'PSAX', 'A4c', 'PSAX', 'A2c', 'PSAX', 'A2c',\n",
       "       'PSAX', 'PSAX', 'A4c', 'A4c', 'A2c', 'A2c', 'PSAX', 'PSAX', 'A2c',\n",
       "       'A2c', 'PLAX', 'A4c', 'A4c', 'PLAX', 'A4c', 'A2c', 'A2c', 'PSAX',\n",
       "       'PSAX', 'A4c', 'A2c', 'PSAX', 'PSAX', 'PSAX', 'PSAX', 'A4c', 'A4c',\n",
       "       'PLAX', 'PLAX', 'PSAX', 'PLAX', 'A4c', 'PLAX', 'PSAX', 'PSAX',\n",
       "       'A4c', 'A4c', 'A4c', 'PLAX', 'A4c', 'A2c', 'A4c', 'PSAX', 'PLAX',\n",
       "       'PSAX', 'PLAX', 'PSAX', 'A4c', 'PLAX', 'PSAX', 'PSAX', 'A2c',\n",
       "       'A2c', 'A2c', 'PSAX', 'A2c', 'A2c', 'A4c', 'A2c', 'A2c', 'A2c',\n",
       "       'PLAX', 'PSAX', 'A4c', 'PSAX', 'PLAX', 'PSAX', 'PLAX', 'A2c',\n",
       "       'A2c', 'PLAX', 'PSAX', 'PSAX', 'A2c', 'PSAX', 'PLAX', 'A2c', 'A2c',\n",
       "       'A2c', 'PLAX', 'A2c', 'A4c', 'PSAX', 'A2c', 'PLAX', 'A4c', 'PSAX',\n",
       "       'PLAX', 'PSAX', 'PLAX', 'A4c', 'A2c', 'PLAX', 'PSAX', 'PSAX',\n",
       "       'PLAX', 'A2c', 'PLAX', 'PLAX', 'PSAX', 'A2c', 'PLAX', 'A4c',\n",
       "       'PSAX', 'PLAX', 'PLAX', 'PSAX', 'PLAX', 'PSAX', 'A4c', 'PSAX',\n",
       "       'A2c', 'PLAX', 'A4c', 'A2c', 'PLAX', 'A4c', 'A4c', 'PSAX', 'PSAX',\n",
       "       'A4c', 'PLAX', 'A2c', 'A2c', 'A4c', 'PSAX', 'A2c', 'PSAX', 'A2c',\n",
       "       'PLAX', 'PSAX', 'PLAX', 'A4c', 'A4c', 'A2c', 'PSAX', 'A4c', 'PLAX',\n",
       "       'A4c', 'PLAX', 'A4c', 'PLAX', 'PSAX', 'A2c', 'PLAX', 'A4c', 'A2c',\n",
       "       'A4c'], dtype=object)"
      ]
     },
     "execution_count": 12,
     "metadata": {},
     "output_type": "execute_result"
    }
   ],
   "source": [
    "y_pred"
   ]
  },
  {
   "cell_type": "code",
   "execution_count": 13,
   "metadata": {},
   "outputs": [
    {
     "name": "stdout",
     "output_type": "stream",
     "text": [
      "no of PLAX : 14\n",
      "no of PSAX : -2\n",
      "no of A4C : -10\n",
      "no of A2C : -2\n"
     ]
    }
   ],
   "source": [
    "print(\"no of PLAX :\",list(y_pred).count('PLAX')-list(y_test).count('PLAX'))\n",
    "print(\"no of PSAX :\",list(y_pred).count('PSAX')-list(y_test).count('PSAX'))\n",
    "print(\"no of A4C :\",list(y_pred).count('A4c')-list(y_test).count('A4c'))\n",
    "print(\"no of A2C :\",list(y_pred).count('A2c')-list(y_test).count('A2c'))"
   ]
  },
  {
   "cell_type": "code",
   "execution_count": 14,
   "metadata": {},
   "outputs": [
    {
     "name": "stdout",
     "output_type": "stream",
     "text": [
      "no of PLAX : 99\n",
      "no of PSAX : 98\n",
      "no of A4C : 103\n",
      "no of A2C : 102\n"
     ]
    }
   ],
   "source": [
    "print(\"no of PLAX :\",list(y_test).count('PLAX'))\n",
    "print(\"no of PSAX :\",list(y_test).count('PSAX'))\n",
    "print(\"no of A4C :\",list(y_test).count('A4c'))\n",
    "print(\"no of A2C :\",list(y_test).count('A2c'))"
   ]
  },
  {
   "cell_type": "code",
   "execution_count": 15,
   "metadata": {},
   "outputs": [
    {
     "data": {
      "text/plain": [
       "175      A4c\n",
       "317      A2c\n",
       "1478    PSAX\n",
       "746      A4c\n",
       "182     PLAX\n",
       "        ... \n",
       "309      A2c\n",
       "847     PLAX\n",
       "989      A4c\n",
       "47       A2c\n",
       "1192     A4c\n",
       "Name: views, Length: 402, dtype: object"
      ]
     },
     "execution_count": 15,
     "metadata": {},
     "output_type": "execute_result"
    }
   ],
   "source": [
    "y_test"
   ]
  },
  {
   "cell_type": "code",
   "execution_count": 16,
   "metadata": {},
   "outputs": [
    {
     "data": {
      "text/plain": [
       "0.9651741293532339"
      ]
     },
     "execution_count": 16,
     "metadata": {},
     "output_type": "execute_result"
    }
   ],
   "source": [
    "accuracy_score(y_test, y_pred)"
   ]
  },
  {
   "cell_type": "code",
   "execution_count": 17,
   "metadata": {},
   "outputs": [
    {
     "data": {
      "text/plain": [
       "1.0"
      ]
     },
     "execution_count": 17,
     "metadata": {},
     "output_type": "execute_result"
    }
   ],
   "source": [
    "y_pred_train = classifier.predict(X_train)\n",
    "accuracy_score(y_train, y_pred_train)"
   ]
  },
  {
   "cell_type": "code",
   "execution_count": 18,
   "metadata": {},
   "outputs": [
    {
     "name": "stdout",
     "output_type": "stream",
     "text": [
      "[[100   0   2   0]\n",
      " [  0  93  10   0]\n",
      " [  0   0  99   0]\n",
      " [  0   0   2  96]]\n",
      "Accuracy: 92.03 %\n",
      "Standard Deviation: 2.37 %\n"
     ]
    }
   ],
   "source": [
    "\n",
    "cm = confusion_matrix(y_test, y_pred)\n",
    "print(cm)\n",
    "\n",
    "from sklearn.model_selection import cross_val_score\n",
    "accuracies = cross_val_score(estimator = classifier, X = X_train, y = y_train, cv = 10)\n",
    "print(\"Accuracy: {:.2f} %\".format(accuracies.mean()*100))\n",
    "print(\"Standard Deviation: {:.2f} %\".format(accuracies.std()*100))"
   ]
  },
  {
   "cell_type": "code",
   "execution_count": 19,
   "metadata": {},
   "outputs": [
    {
     "name": "stdout",
     "output_type": "stream",
     "text": [
      "              precision    recall  f1-score   support\n",
      "\n",
      "         A2C       1.00      0.98      0.99       102\n",
      "         A4C       1.00      0.90      0.95       103\n",
      "        PLAX       0.88      1.00      0.93        99\n",
      "        PSAX       1.00      0.98      0.99        98\n",
      "\n",
      "    accuracy                           0.97       402\n",
      "   macro avg       0.97      0.97      0.97       402\n",
      "weighted avg       0.97      0.97      0.97       402\n",
      "\n"
     ]
    }
   ],
   "source": [
    "print(classification_report(y_test, y_pred,target_names=['A2C','A4C','PLAX','PSAX']))"
   ]
  },
  {
   "cell_type": "code",
   "execution_count": 45,
   "metadata": {},
   "outputs": [
    {
     "name": "stderr",
     "output_type": "stream",
     "text": [
      "C:\\Users\\hp\\Anaconda3\\lib\\site-packages\\sklearn\\metrics\\_classification.py:1317: UserWarning: Note that pos_label (set to 0) is ignored when average != 'binary' (got 'macro'). You may use labels=[pos_label] to specify a single positive class.\n",
      "  % (pos_label, average), UserWarning)\n"
     ]
    },
    {
     "data": {
      "text/plain": [
       "0.9657241537391656"
      ]
     },
     "execution_count": 45,
     "metadata": {},
     "output_type": "execute_result"
    }
   ],
   "source": [
    "from sklearn import metrics\n",
    "recall_specificity = metrics.recall_score(y_test, y_pred, pos_label=0,average='macro')\n",
    "recall_specificity"
   ]
  },
  {
   "cell_type": "code",
   "execution_count": 46,
   "metadata": {},
   "outputs": [
    {
     "data": {
      "text/plain": [
       "0.9657241537391656"
      ]
     },
     "execution_count": 46,
     "metadata": {},
     "output_type": "execute_result"
    }
   ],
   "source": [
    "recall_sens = metrics.recall_score(y_test, y_pred, pos_label=1,average='macro')\n",
    "recall_sens"
   ]
  },
  {
   "cell_type": "code",
   "execution_count": 20,
   "metadata": {},
   "outputs": [],
   "source": [
    "import seaborn as sns\n",
    "def bothconfusion_m(cm):\n",
    "    sns.heatmap(cm, annot=True,fmt='.2f',cmap='Oranges',xticklabels=['A2C','A4C','PLAX','PSAX'],yticklabels=['A2C','A4C','PLAX','PSAX'])\n",
    "    plt.title(\"CONFUSION MATRIX FOR VIEW CLASSIFICATION\")\n",
    "    plt.ylim(4.0,0)\n",
    "    plt.show()\n",
    "    sns.heatmap(cm/np.sum(cm), annot=True, fmt='.2%', cmap='Oranges',xticklabels=['A2C','A4C','PLAX','PSAX'],yticklabels=['A2C','A4C','PLAX','PSAX'])\n",
    "    plt.title(\"NORMALIZED CONFUSION MATRIX IN %\")\n",
    "    plt.ylim(4.0,0)\n",
    "    plt.show()\n",
    "    "
   ]
  },
  {
   "cell_type": "code",
   "execution_count": 28,
   "metadata": {},
   "outputs": [
    {
     "data": {
      "image/png": "[encoded data removed]",
      "text/plain": [
       "<Figure size 576x396 with 1 Axes>"
      ]
     },
     "metadata": {},
     "output_type": "display_data"
    }
   ],
   "source": [
    "visualizer1 = ROCAUC(classifier,micro=False,macro=False, classes=['A2C','A4C','PLAX','PSAX'])\n",
    "visualizer1.fit(X_train, y_train)        # Fit the training data to the visualizer\n",
    "visualizer1.score(X_test, y_test)        # Evaluate the model on the test data\n",
    "visualizer1.show(\"D:/Ratheesha/MTechsem4/models/ml_model_featureextract/svc_roccurve_orb\")\n",
    "\n",
    "plt.show()"
   ]
  },
  {
   "cell_type": "code",
   "execution_count": 29,
   "metadata": {},
   "outputs": [
    {
     "data": {
      "image/png": "[encoded data removed]",
      "text/plain": [
       "<Figure size 576x396 with 2 Axes>"
      ]
     },
     "metadata": {},
     "output_type": "display_data"
    },
    {
     "data": {
      "image/png": "[encoded data removed]",
      "text/plain": [
       "<Figure size 576x396 with 2 Axes>"
      ]
     },
     "metadata": {},
     "output_type": "display_data"
    }
   ],
   "source": [
    "bothconfusion_m(cm)"
   ]
  },
  {
   "cell_type": "markdown",
   "metadata": {},
   "source": [
    "# DECISION TREE"
   ]
  },
  {
   "cell_type": "code",
   "execution_count": 2,
   "metadata": {},
   "outputs": [],
   "source": [
    "from sklearn.tree import DecisionTreeClassifier"
   ]
  },
  {
   "cell_type": "code",
   "execution_count": 31,
   "metadata": {},
   "outputs": [
    {
     "data": {
      "text/plain": [
       "array(['A2c', 'A2c', 'PSAX', 'A4c', 'A4c', 'PLAX', 'A4c', 'A2c', 'A4c',\n",
       "       'PLAX', 'A2c', 'A4c', 'PLAX', 'A4c', 'A2c', 'PLAX', 'PLAX', 'A2c',\n",
       "       'PSAX', 'A4c', 'A4c', 'PLAX', 'PSAX', 'A4c', 'PSAX', 'PLAX', 'A4c',\n",
       "       'A4c', 'PSAX', 'PSAX', 'A4c', 'A4c', 'A2c', 'A4c', 'PLAX', 'PLAX',\n",
       "       'A4c', 'PSAX', 'A2c', 'PLAX', 'PLAX', 'PLAX', 'PLAX', 'PSAX',\n",
       "       'PSAX', 'PLAX', 'A4c', 'A2c', 'PSAX', 'A4c', 'A4c', 'A4c', 'PSAX',\n",
       "       'A4c', 'PLAX', 'PLAX', 'A2c', 'PLAX', 'A2c', 'PLAX', 'PLAX', 'A2c',\n",
       "       'PLAX', 'A2c', 'PLAX', 'A2c', 'PSAX', 'PSAX', 'A2c', 'A2c', 'PLAX',\n",
       "       'PLAX', 'PLAX', 'A4c', 'A2c', 'A2c', 'A4c', 'PSAX', 'A2c', 'A4c',\n",
       "       'A2c', 'A2c', 'PSAX', 'A2c', 'A2c', 'A4c', 'A4c', 'PLAX', 'PSAX',\n",
       "       'PSAX', 'PSAX', 'PLAX', 'A2c', 'PSAX', 'PSAX', 'PSAX', 'PSAX',\n",
       "       'A2c', 'PLAX', 'PSAX', 'PLAX', 'PLAX', 'A2c', 'PSAX', 'PLAX',\n",
       "       'PLAX', 'PLAX', 'A4c', 'PLAX', 'PSAX', 'A4c', 'PSAX', 'PSAX',\n",
       "       'PSAX', 'PLAX', 'PLAX', 'A4c', 'PLAX', 'A2c', 'PLAX', 'A4c', 'A4c',\n",
       "       'PSAX', 'A4c', 'A2c', 'PLAX', 'PLAX', 'PLAX', 'A4c', 'A4c', 'A4c',\n",
       "       'A4c', 'A2c', 'PLAX', 'PSAX', 'A4c', 'A4c', 'A2c', 'PSAX', 'PSAX',\n",
       "       'A4c', 'A4c', 'PLAX', 'PLAX', 'A2c', 'PSAX', 'A4c', 'PSAX', 'A4c',\n",
       "       'A2c', 'PSAX', 'PLAX', 'A2c', 'A2c', 'A2c', 'PLAX', 'PLAX', 'A2c',\n",
       "       'A4c', 'PSAX', 'A4c', 'PSAX', 'A2c', 'A4c', 'PSAX', 'A2c', 'PSAX',\n",
       "       'A2c', 'PLAX', 'A2c', 'A4c', 'PLAX', 'PSAX', 'A2c', 'A2c', 'A4c',\n",
       "       'PLAX', 'A4c', 'A2c', 'PLAX', 'A4c', 'PLAX', 'A4c', 'PLAX', 'PSAX',\n",
       "       'A4c', 'PLAX', 'A2c', 'A2c', 'A4c', 'A4c', 'A4c', 'PSAX', 'A4c',\n",
       "       'A4c', 'PLAX', 'PLAX', 'A4c', 'A4c', 'A4c', 'A4c', 'PLAX', 'PLAX',\n",
       "       'A4c', 'PLAX', 'PLAX', 'PSAX', 'A4c', 'PSAX', 'A2c', 'PLAX', 'A2c',\n",
       "       'A2c', 'A4c', 'PLAX', 'PSAX', 'A4c', 'A4c', 'A4c', 'PLAX', 'A2c',\n",
       "       'PLAX', 'PLAX', 'PLAX', 'A4c', 'A4c', 'A2c', 'A4c', 'A4c', 'A2c',\n",
       "       'PLAX', 'PSAX', 'PLAX', 'A4c', 'A4c', 'A2c', 'PSAX', 'PLAX', 'A2c',\n",
       "       'PLAX', 'PLAX', 'PLAX', 'PSAX', 'PSAX', 'A2c', 'PLAX', 'A2c',\n",
       "       'PSAX', 'PSAX', 'A4c', 'PSAX', 'A2c', 'A2c', 'A2c', 'PSAX', 'PSAX',\n",
       "       'A4c', 'A4c', 'A2c', 'A2c', 'PSAX', 'PSAX', 'A4c', 'A2c', 'A4c',\n",
       "       'A4c', 'A4c', 'A2c', 'A4c', 'A2c', 'A2c', 'PSAX', 'PSAX', 'A4c',\n",
       "       'A2c', 'PSAX', 'PSAX', 'PSAX', 'PSAX', 'A4c', 'A4c', 'PLAX',\n",
       "       'PLAX', 'PSAX', 'PLAX', 'A4c', 'PLAX', 'PSAX', 'A2c', 'A4c', 'A4c',\n",
       "       'A4c', 'PLAX', 'PLAX', 'A2c', 'A4c', 'PSAX', 'PLAX', 'PSAX',\n",
       "       'PSAX', 'PSAX', 'A4c', 'A4c', 'PSAX', 'PSAX', 'A2c', 'A2c', 'A2c',\n",
       "       'A2c', 'A2c', 'A4c', 'A4c', 'A2c', 'A2c', 'A2c', 'PLAX', 'PSAX',\n",
       "       'A4c', 'PSAX', 'PLAX', 'A2c', 'PLAX', 'A2c', 'A2c', 'PLAX', 'PSAX',\n",
       "       'PSAX', 'A2c', 'PLAX', 'PLAX', 'A2c', 'A2c', 'A2c', 'PLAX', 'A2c',\n",
       "       'A2c', 'PSAX', 'A2c', 'A4c', 'A4c', 'A2c', 'PLAX', 'A4c', 'PLAX',\n",
       "       'A4c', 'A2c', 'A4c', 'PSAX', 'PSAX', 'PLAX', 'A2c', 'PLAX', 'A4c',\n",
       "       'A4c', 'A2c', 'PLAX', 'A4c', 'PLAX', 'A4c', 'PLAX', 'PLAX', 'PLAX',\n",
       "       'PSAX', 'PLAX', 'PSAX', 'A2c', 'PLAX', 'A4c', 'A4c', 'PLAX', 'A4c',\n",
       "       'A4c', 'PSAX', 'PSAX', 'A4c', 'PLAX', 'A2c', 'PSAX', 'A4c', 'PSAX',\n",
       "       'A2c', 'PSAX', 'A2c', 'PLAX', 'PSAX', 'PLAX', 'A4c', 'A4c', 'A2c',\n",
       "       'PSAX', 'PLAX', 'PSAX', 'A4c', 'PLAX', 'A4c', 'PLAX', 'PSAX',\n",
       "       'A2c', 'PLAX', 'A4c', 'A2c', 'A4c'], dtype=object)"
      ]
     },
     "execution_count": 31,
     "metadata": {},
     "output_type": "execute_result"
    }
   ],
   "source": [
    "dt_classifier = DecisionTreeClassifier(criterion='entropy')\n",
    "\n",
    "dt_classifier.fit(X_train, y_train)\n",
    "\n",
    "#Make the prediction\n",
    "y_pred1 = dt_classifier.predict(X_test)\n",
    "y_pred1"
   ]
  },
  {
   "cell_type": "code",
   "execution_count": 32,
   "metadata": {},
   "outputs": [
    {
     "name": "stdout",
     "output_type": "stream",
     "text": [
      "the training accuracy for view classification :  1.0\n",
      "the test accuracy for view classification :  0.7562189054726368\n"
     ]
    }
   ],
   "source": [
    "y_pred_train1 = dt_classifier.predict(X_train)\n",
    "print(\"the training accuracy for view classification : \",accuracy_score(y_train, y_pred_train1))\n",
    "print(\"the test accuracy for view classification : \",accuracy_score(y_test, y_pred1))"
   ]
  },
  {
   "cell_type": "code",
   "execution_count": 47,
   "metadata": {},
   "outputs": [
    {
     "data": {
      "text/plain": [
       "0.7558942965241408"
      ]
     },
     "execution_count": 47,
     "metadata": {},
     "output_type": "execute_result"
    }
   ],
   "source": [
    "recall_specificity1 = metrics.recall_score(y_test, y_pred1, pos_label=0,average='macro')\n",
    "recall_specificity1"
   ]
  },
  {
   "cell_type": "code",
   "execution_count": 48,
   "metadata": {},
   "outputs": [
    {
     "name": "stdout",
     "output_type": "stream",
     "text": [
      "              precision    recall  f1-score   support\n",
      "\n",
      "         A2C       0.78      0.74      0.76       102\n",
      "         A4C       0.73      0.80      0.76       103\n",
      "        PLAX       0.72      0.77      0.75        99\n",
      "        PSAX       0.81      0.72      0.76        98\n",
      "\n",
      "    accuracy                           0.76       402\n",
      "   macro avg       0.76      0.76      0.76       402\n",
      "weighted avg       0.76      0.76      0.76       402\n",
      "\n"
     ]
    }
   ],
   "source": [
    "print(classification_report(y_test, y_pred1,target_names=['A2C','A4C','PLAX','PSAX']))"
   ]
  },
  {
   "cell_type": "code",
   "execution_count": 33,
   "metadata": {},
   "outputs": [
    {
     "data": {
      "image/png": "[encoded data removed]",
      "text/plain": [
       "<Figure size 576x396 with 1 Axes>"
      ]
     },
     "metadata": {},
     "output_type": "display_data"
    }
   ],
   "source": [
    "visualizer2 = ROCAUC(dt_classifier,micro=False,macro=False, classes=['A2C','A4C','PLAX','PSAX'])\n",
    "visualizer2.fit(X_train, y_train)        # Fit the training data to the visualizer\n",
    "visualizer2.score(X_test, y_test)        # Evaluate the model on the test data\n",
    "visualizer2.show(\"D:/Ratheesha/MTechsem4/models/ml_model_featureextract/dt_roccurve_orb\")\n",
    "#plt.savefig()\n",
    "plt.show()"
   ]
  },
  {
   "cell_type": "code",
   "execution_count": 34,
   "metadata": {},
   "outputs": [
    {
     "name": "stdout",
     "output_type": "stream",
     "text": [
      "[[75 12  7  8]\n",
      " [ 7 82  9  5]\n",
      " [ 5 14 76  4]\n",
      " [ 9  5 13 71]]\n"
     ]
    }
   ],
   "source": [
    "cm_dt = confusion_matrix(y_test, y_pred1)\n",
    "print(cm_dt)"
   ]
  },
  {
   "cell_type": "code",
   "execution_count": 35,
   "metadata": {},
   "outputs": [
    {
     "data": {
      "image/png": "[encoded data removed]",
      "text/plain": [
       "<Figure size 576x396 with 2 Axes>"
      ]
     },
     "metadata": {},
     "output_type": "display_data"
    },
    {
     "data": {
      "image/png": "[encoded data removed]",
      "text/plain": [
       "<Figure size 576x396 with 2 Axes>"
      ]
     },
     "metadata": {},
     "output_type": "display_data"
    }
   ],
   "source": [
    "bothconfusion_m(cm_dt)"
   ]
  },
  {
   "cell_type": "markdown",
   "metadata": {},
   "source": [
    "# RANDOM FOREST CLASSIFIER"
   ]
  },
  {
   "cell_type": "code",
   "execution_count": 36,
   "metadata": {},
   "outputs": [],
   "source": [
    "from sklearn.ensemble import RandomForestClassifier"
   ]
  },
  {
   "cell_type": "code",
   "execution_count": 37,
   "metadata": {},
   "outputs": [
    {
     "data": {
      "text/plain": [
       "array(['A2c', 'A2c', 'PSAX', 'A4c', 'PLAX', 'PLAX', 'A4c', 'A2c', 'PLAX',\n",
       "       'A2c', 'A2c', 'PSAX', 'PLAX', 'A4c', 'PSAX', 'PLAX', 'A2c', 'A2c',\n",
       "       'A2c', 'A4c', 'A4c', 'PLAX', 'A2c', 'A4c', 'PSAX', 'PLAX', 'A4c',\n",
       "       'A4c', 'PSAX', 'PSAX', 'A4c', 'A2c', 'A2c', 'A2c', 'PLAX', 'PLAX',\n",
       "       'A2c', 'PSAX', 'A4c', 'PSAX', 'A4c', 'PSAX', 'PLAX', 'PSAX',\n",
       "       'PSAX', 'PLAX', 'A2c', 'A2c', 'PSAX', 'A4c', 'A2c', 'PLAX', 'PSAX',\n",
       "       'A4c', 'A2c', 'PLAX', 'A2c', 'PLAX', 'A2c', 'PLAX', 'PLAX', 'A2c',\n",
       "       'PLAX', 'A2c', 'PSAX', 'A2c', 'PSAX', 'PSAX', 'A2c', 'PLAX',\n",
       "       'PLAX', 'A4c', 'A2c', 'A4c', 'A2c', 'PLAX', 'PSAX', 'A2c', 'A2c',\n",
       "       'A2c', 'A2c', 'A2c', 'PSAX', 'A2c', 'A2c', 'A4c', 'A4c', 'PLAX',\n",
       "       'PLAX', 'PSAX', 'A2c', 'PLAX', 'A2c', 'PSAX', 'A2c', 'PSAX',\n",
       "       'PSAX', 'A2c', 'PLAX', 'PSAX', 'A2c', 'PLAX', 'A2c', 'A4c', 'A4c',\n",
       "       'A4c', 'PSAX', 'A4c', 'PLAX', 'PSAX', 'A4c', 'PSAX', 'PSAX',\n",
       "       'PSAX', 'PLAX', 'PLAX', 'A2c', 'PLAX', 'A2c', 'PLAX', 'A4c', 'A4c',\n",
       "       'PSAX', 'A4c', 'A2c', 'PLAX', 'PLAX', 'PLAX', 'A4c', 'PLAX', 'A4c',\n",
       "       'A4c', 'A2c', 'PLAX', 'PSAX', 'PLAX', 'PLAX', 'A4c', 'A4c', 'PLAX',\n",
       "       'A4c', 'A4c', 'PLAX', 'PLAX', 'A4c', 'PSAX', 'A4c', 'PSAX', 'A4c',\n",
       "       'A2c', 'PSAX', 'PLAX', 'A2c', 'PLAX', 'A2c', 'PLAX', 'PLAX', 'A2c',\n",
       "       'A4c', 'PSAX', 'PLAX', 'PSAX', 'A2c', 'A4c', 'A2c', 'A2c', 'A4c',\n",
       "       'A2c', 'PLAX', 'A2c', 'A4c', 'PLAX', 'PSAX', 'PSAX', 'PSAX', 'A4c',\n",
       "       'PLAX', 'A4c', 'A2c', 'PSAX', 'A2c', 'PLAX', 'A4c', 'PLAX', 'PSAX',\n",
       "       'A4c', 'PLAX', 'PSAX', 'A2c', 'A2c', 'A4c', 'A4c', 'PSAX', 'A4c',\n",
       "       'PLAX', 'PLAX', 'PLAX', 'A4c', 'A4c', 'A2c', 'A4c', 'A2c', 'PSAX',\n",
       "       'A4c', 'PLAX', 'A4c', 'PSAX', 'A4c', 'A4c', 'A2c', 'PSAX', 'A2c',\n",
       "       'A2c', 'A4c', 'A4c', 'PSAX', 'A4c', 'A4c', 'A4c', 'PLAX', 'A2c',\n",
       "       'PLAX', 'PLAX', 'PSAX', 'A4c', 'A4c', 'A2c', 'A4c', 'PLAX', 'A2c',\n",
       "       'A4c', 'A2c', 'PLAX', 'A4c', 'A4c', 'A2c', 'PSAX', 'A2c', 'A2c',\n",
       "       'PLAX', 'PLAX', 'PSAX', 'PSAX', 'A4c', 'A2c', 'PLAX', 'PLAX',\n",
       "       'PSAX', 'PSAX', 'A4c', 'PSAX', 'A2c', 'PSAX', 'A2c', 'PSAX',\n",
       "       'PSAX', 'A4c', 'A4c', 'A2c', 'A2c', 'PSAX', 'PSAX', 'A2c', 'A2c',\n",
       "       'PLAX', 'A4c', 'A4c', 'PLAX', 'A4c', 'A2c', 'A2c', 'PSAX', 'PSAX',\n",
       "       'A4c', 'A2c', 'PSAX', 'PSAX', 'PSAX', 'PSAX', 'A4c', 'A4c', 'PLAX',\n",
       "       'PLAX', 'PSAX', 'PLAX', 'A4c', 'PLAX', 'PSAX', 'PSAX', 'A4c',\n",
       "       'PLAX', 'PLAX', 'PLAX', 'A4c', 'A2c', 'A4c', 'PSAX', 'PLAX',\n",
       "       'PSAX', 'PLAX', 'PSAX', 'A4c', 'PLAX', 'PSAX', 'PSAX', 'A2c',\n",
       "       'A2c', 'A2c', 'PSAX', 'A2c', 'A2c', 'A4c', 'A2c', 'A2c', 'A2c',\n",
       "       'PLAX', 'PSAX', 'A4c', 'PSAX', 'PLAX', 'PSAX', 'PLAX', 'A2c',\n",
       "       'A2c', 'PLAX', 'PSAX', 'PSAX', 'A2c', 'PSAX', 'PLAX', 'A2c', 'A2c',\n",
       "       'A2c', 'PLAX', 'A2c', 'A4c', 'PSAX', 'A2c', 'PLAX', 'A4c', 'PSAX',\n",
       "       'PLAX', 'PSAX', 'PLAX', 'A4c', 'A2c', 'A4c', 'PSAX', 'PSAX',\n",
       "       'PLAX', 'A2c', 'PLAX', 'PLAX', 'PSAX', 'A2c', 'PLAX', 'A4c',\n",
       "       'PSAX', 'PLAX', 'PLAX', 'PSAX', 'PLAX', 'PSAX', 'A4c', 'PSAX',\n",
       "       'A2c', 'PLAX', 'A4c', 'A2c', 'PLAX', 'A4c', 'A4c', 'PSAX', 'PSAX',\n",
       "       'A4c', 'PLAX', 'A2c', 'A2c', 'A4c', 'PSAX', 'A2c', 'PSAX', 'A2c',\n",
       "       'PLAX', 'PSAX', 'PLAX', 'A4c', 'A2c', 'A2c', 'PSAX', 'A4c', 'PLAX',\n",
       "       'A4c', 'PLAX', 'A4c', 'PLAX', 'PSAX', 'A2c', 'PLAX', 'A4c', 'A2c',\n",
       "       'A4c'], dtype=object)"
      ]
     },
     "execution_count": 37,
     "metadata": {},
     "output_type": "execute_result"
    }
   ],
   "source": [
    "#Create a Gaussian Classifier\n",
    "clf_rf=RandomForestClassifier(n_estimators=50)\n",
    "\n",
    "#Train the model using the training sets y_pred=clf.predict(X_test)\n",
    "clf_rf.fit(X_train,y_train)\n",
    "\n",
    "y_pred_rf=clf_rf.predict(X_test)\n",
    "y_pred_rf"
   ]
  },
  {
   "cell_type": "code",
   "execution_count": 38,
   "metadata": {},
   "outputs": [
    {
     "name": "stdout",
     "output_type": "stream",
     "text": [
      "the training accuracy for view classification :  1.0\n",
      "the test accuracy for view classification :  0.9776119402985075\n"
     ]
    }
   ],
   "source": [
    "y_pred_train_rf = clf_rf.predict(X_train)\n",
    "print(\"the training accuracy for view classification : \",accuracy_score(y_train, y_pred_train_rf))\n",
    "print(\"the test accuracy for view classification : \",accuracy_score(y_test, y_pred_rf))"
   ]
  },
  {
   "cell_type": "code",
   "execution_count": 49,
   "metadata": {},
   "outputs": [
    {
     "name": "stdout",
     "output_type": "stream",
     "text": [
      "              precision    recall  f1-score   support\n",
      "\n",
      "         A2C       0.94      0.99      0.97       102\n",
      "         A4C       0.99      0.94      0.97       103\n",
      "        PLAX       0.98      1.00      0.99        99\n",
      "        PSAX       1.00      0.98      0.99        98\n",
      "\n",
      "    accuracy                           0.98       402\n",
      "   macro avg       0.98      0.98      0.98       402\n",
      "weighted avg       0.98      0.98      0.98       402\n",
      "\n"
     ]
    }
   ],
   "source": [
    "print(classification_report(y_test, y_pred_rf,target_names=['A2C','A4C','PLAX','PSAX']))"
   ]
  },
  {
   "cell_type": "code",
   "execution_count": 50,
   "metadata": {},
   "outputs": [
    {
     "data": {
      "text/plain": [
       "0.9778838719954002"
      ]
     },
     "execution_count": 50,
     "metadata": {},
     "output_type": "execute_result"
    }
   ],
   "source": [
    "recall_specificity2 = metrics.recall_score(y_test, y_pred_rf, pos_label=0,average='macro')\n",
    "recall_specificity2"
   ]
  },
  {
   "cell_type": "code",
   "execution_count": 39,
   "metadata": {},
   "outputs": [
    {
     "data": {
      "image/png": "[encoded data removed]",
      "text/plain": [
       "<Figure size 576x396 with 1 Axes>"
      ]
     },
     "metadata": {},
     "output_type": "display_data"
    }
   ],
   "source": [
    "visualizer3 = ROCAUC(clf_rf,micro=False,macro=False, classes=['A2C','A4C','PLAX','PSAX'])\n",
    "visualizer3.fit(X_train, y_train)        # Fit the training data to the visualizer\n",
    "visualizer3.score(X_test, y_test)        # Evaluate the model on the test data\n",
    "#visualizer3.show()\n",
    "\n",
    "#plt.savefig(\"D:/Ratheesha/MTechsem4/models/ml_model_featureextract/rf_roccurve_orb\")\n",
    "visualizer3.show(\"D:/Ratheesha/MTechsem4/models/ml_model_featureextract/rf_roccurve_orb\")\n",
    "\n",
    "plt.show()\n",
    "#plt.imshow()\n",
    "\n"
   ]
  },
  {
   "cell_type": "code",
   "execution_count": 40,
   "metadata": {},
   "outputs": [
    {
     "name": "stdout",
     "output_type": "stream",
     "text": [
      "[[101   1   0   0]\n",
      " [  4  97   2   0]\n",
      " [  0   0  99   0]\n",
      " [  2   0   0  96]]\n"
     ]
    }
   ],
   "source": [
    "cm_rf = confusion_matrix(y_test, y_pred_rf)\n",
    "print(cm_rf)"
   ]
  },
  {
   "cell_type": "code",
   "execution_count": 41,
   "metadata": {},
   "outputs": [
    {
     "data": {
      "image/png": "[encoded data removed]",
      "text/plain": [
       "<Figure size 576x396 with 2 Axes>"
      ]
     },
     "metadata": {},
     "output_type": "display_data"
    },
    {
     "data": {
      "image/png": "[encoded data removed]",
      "text/plain": [
       "<Figure size 576x396 with 2 Axes>"
      ]
     },
     "metadata": {},
     "output_type": "display_data"
    }
   ],
   "source": [
    "bothconfusion_m(cm_rf)"
   ]
  },
  {
   "cell_type": "code",
   "execution_count": null,
   "metadata": {},
   "outputs": [],
   "source": []
  },
  {
   "cell_type": "code",
   "execution_count": null,
   "metadata": {},
   "outputs": [],
   "source": []
  }
 ],
 "metadata": {
  "kernelspec": {
   "display_name": "Python 3",
   "language": "python",
   "name": "python3"
  },
  "language_info": {
   "codemirror_mode": {
    "name": "ipython",
    "version": 3
   },
   "file_extension": ".py",
   "mimetype": "text/x-python",
   "name": "python",
   "nbconvert_exporter": "python",
   "pygments_lexer": "ipython3",
   "version": "3.7.3"
  }
 },
 "nbformat": 4,
 "nbformat_minor": 2
}
