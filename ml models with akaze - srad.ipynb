{
 "cells": [
  {
   "cell_type": "markdown",
   "metadata": {},
   "source": [
    "# classification using ML models\n",
    "knn,svm, decision tree, random forest"
   ]
  },
  {
   "cell_type": "code",
   "execution_count": 87,
   "metadata": {},
   "outputs": [
    {
     "data": {
      "text/plain": [
       "'1.3.post1'"
      ]
     },
     "execution_count": 87,
     "metadata": {},
     "output_type": "execute_result"
    }
   ],
   "source": [
    "import yellowbrick\n",
    "yellowbrick.__version__"
   ]
  },
  {
   "cell_type": "code",
   "execution_count": 88,
   "metadata": {},
   "outputs": [],
   "source": [
    "import numpy as np\n",
    "import cv2 \n",
    "import matplotlib.pyplot as plt\n",
    "import pandas as pd\n",
    "import seaborn as sns\n",
    "from sklearn import svm\n",
    "from sklearn.model_selection import train_test_split, learning_curve\n",
    "from yellowbrick.classifier import ROCAUC\n",
    "from sklearn.metrics import confusion_matrix, accuracy_score, classification_report, roc_auc_score, roc_curve\n",
    "from sklearn.model_selection import GridSearchCV"
   ]
  },
  {
   "cell_type": "code",
   "execution_count": 89,
   "metadata": {},
   "outputs": [
    {
     "data": {
      "text/plain": [
       "'0.22'"
      ]
     },
     "execution_count": 89,
     "metadata": {},
     "output_type": "execute_result"
    }
   ],
   "source": [
    "import sklearn\n",
    "sklearn.__version__"
   ]
  },
  {
   "cell_type": "code",
   "execution_count": 90,
   "metadata": {},
   "outputs": [
    {
     "data": {
      "text/html": [
       "<div>\n",
       "<style scoped>\n",
       "    .dataframe tbody tr th:only-of-type {\n",
       "        vertical-align: middle;\n",
       "    }\n",
       "\n",
       "    .dataframe tbody tr th {\n",
       "        vertical-align: top;\n",
       "    }\n",
       "\n",
       "    .dataframe thead th {\n",
       "        text-align: right;\n",
       "    }\n",
       "</style>\n",
       "<table border=\"1\" class=\"dataframe\">\n",
       "  <thead>\n",
       "    <tr style=\"text-align: right;\">\n",
       "      <th></th>\n",
       "      <th>Unnamed: 0</th>\n",
       "      <th>feature1</th>\n",
       "      <th>feature2</th>\n",
       "      <th>feature3</th>\n",
       "      <th>feature4</th>\n",
       "      <th>feature5</th>\n",
       "      <th>feature6</th>\n",
       "      <th>feature7</th>\n",
       "      <th>feature8</th>\n",
       "      <th>feature9</th>\n",
       "      <th>...</th>\n",
       "      <th>feature1016</th>\n",
       "      <th>feature1017</th>\n",
       "      <th>feature1018</th>\n",
       "      <th>feature1019</th>\n",
       "      <th>feature1020</th>\n",
       "      <th>feature1021</th>\n",
       "      <th>feature1022</th>\n",
       "      <th>feature1023</th>\n",
       "      <th>feature1024</th>\n",
       "      <th>views</th>\n",
       "    </tr>\n",
       "  </thead>\n",
       "  <tbody>\n",
       "    <tr>\n",
       "      <th>0</th>\n",
       "      <td>image246</td>\n",
       "      <td>-0.285175</td>\n",
       "      <td>-0.308783</td>\n",
       "      <td>-0.289413</td>\n",
       "      <td>-0.209419</td>\n",
       "      <td>-0.333395</td>\n",
       "      <td>-0.229416</td>\n",
       "      <td>-0.235085</td>\n",
       "      <td>-0.253578</td>\n",
       "      <td>2.509623</td>\n",
       "      <td>...</td>\n",
       "      <td>-0.246319</td>\n",
       "      <td>-0.232623</td>\n",
       "      <td>-0.284747</td>\n",
       "      <td>-0.255584</td>\n",
       "      <td>-0.253578</td>\n",
       "      <td>-0.235085</td>\n",
       "      <td>-0.237356</td>\n",
       "      <td>-0.195413</td>\n",
       "      <td>-0.229504</td>\n",
       "      <td>PLAX</td>\n",
       "    </tr>\n",
       "    <tr>\n",
       "      <th>1</th>\n",
       "      <td>image73</td>\n",
       "      <td>-0.285175</td>\n",
       "      <td>-0.308783</td>\n",
       "      <td>-0.289413</td>\n",
       "      <td>-0.209419</td>\n",
       "      <td>-0.333395</td>\n",
       "      <td>-0.229416</td>\n",
       "      <td>-0.235085</td>\n",
       "      <td>-0.253578</td>\n",
       "      <td>-0.331460</td>\n",
       "      <td>...</td>\n",
       "      <td>-0.246319</td>\n",
       "      <td>-0.232623</td>\n",
       "      <td>-0.284747</td>\n",
       "      <td>-0.255584</td>\n",
       "      <td>-0.253578</td>\n",
       "      <td>-0.235085</td>\n",
       "      <td>-0.237356</td>\n",
       "      <td>-0.195413</td>\n",
       "      <td>-0.229504</td>\n",
       "      <td>A2c</td>\n",
       "    </tr>\n",
       "    <tr>\n",
       "      <th>2</th>\n",
       "      <td>image54</td>\n",
       "      <td>-0.285175</td>\n",
       "      <td>-0.308783</td>\n",
       "      <td>-0.289413</td>\n",
       "      <td>-0.209419</td>\n",
       "      <td>-0.333395</td>\n",
       "      <td>-0.229416</td>\n",
       "      <td>-0.235085</td>\n",
       "      <td>-0.253578</td>\n",
       "      <td>-0.331460</td>\n",
       "      <td>...</td>\n",
       "      <td>-0.246319</td>\n",
       "      <td>-0.232623</td>\n",
       "      <td>-0.284747</td>\n",
       "      <td>-0.255584</td>\n",
       "      <td>-0.253578</td>\n",
       "      <td>-0.235085</td>\n",
       "      <td>3.322989</td>\n",
       "      <td>-0.195413</td>\n",
       "      <td>-0.229504</td>\n",
       "      <td>A2c</td>\n",
       "    </tr>\n",
       "    <tr>\n",
       "      <th>3</th>\n",
       "      <td>image322</td>\n",
       "      <td>-0.285175</td>\n",
       "      <td>-0.308783</td>\n",
       "      <td>-0.289413</td>\n",
       "      <td>-0.209419</td>\n",
       "      <td>-0.333395</td>\n",
       "      <td>-0.229416</td>\n",
       "      <td>-0.235085</td>\n",
       "      <td>-0.253578</td>\n",
       "      <td>-0.331460</td>\n",
       "      <td>...</td>\n",
       "      <td>-0.246319</td>\n",
       "      <td>-0.232623</td>\n",
       "      <td>-0.284747</td>\n",
       "      <td>-0.255584</td>\n",
       "      <td>-0.253578</td>\n",
       "      <td>-0.235085</td>\n",
       "      <td>-0.237356</td>\n",
       "      <td>-0.195413</td>\n",
       "      <td>-0.229504</td>\n",
       "      <td>PLAX</td>\n",
       "    </tr>\n",
       "    <tr>\n",
       "      <th>4</th>\n",
       "      <td>image232</td>\n",
       "      <td>-0.285175</td>\n",
       "      <td>2.081793</td>\n",
       "      <td>-0.289413</td>\n",
       "      <td>-0.209419</td>\n",
       "      <td>-0.333395</td>\n",
       "      <td>-0.229416</td>\n",
       "      <td>-0.235085</td>\n",
       "      <td>-0.253578</td>\n",
       "      <td>-0.331460</td>\n",
       "      <td>...</td>\n",
       "      <td>-0.246319</td>\n",
       "      <td>-0.232623</td>\n",
       "      <td>-0.284747</td>\n",
       "      <td>-0.255584</td>\n",
       "      <td>-0.253578</td>\n",
       "      <td>-0.235085</td>\n",
       "      <td>-0.237356</td>\n",
       "      <td>-0.195413</td>\n",
       "      <td>-0.229504</td>\n",
       "      <td>A4c</td>\n",
       "    </tr>\n",
       "  </tbody>\n",
       "</table>\n",
       "<p>5 rows × 1026 columns</p>\n",
       "</div>"
      ],
      "text/plain": [
       "  Unnamed: 0  feature1  feature2  feature3  feature4  feature5  feature6  \\\n",
       "0   image246 -0.285175 -0.308783 -0.289413 -0.209419 -0.333395 -0.229416   \n",
       "1    image73 -0.285175 -0.308783 -0.289413 -0.209419 -0.333395 -0.229416   \n",
       "2    image54 -0.285175 -0.308783 -0.289413 -0.209419 -0.333395 -0.229416   \n",
       "3   image322 -0.285175 -0.308783 -0.289413 -0.209419 -0.333395 -0.229416   \n",
       "4   image232 -0.285175  2.081793 -0.289413 -0.209419 -0.333395 -0.229416   \n",
       "\n",
       "   feature7  feature8  feature9  ...  feature1016  feature1017  feature1018  \\\n",
       "0 -0.235085 -0.253578  2.509623  ...    -0.246319    -0.232623    -0.284747   \n",
       "1 -0.235085 -0.253578 -0.331460  ...    -0.246319    -0.232623    -0.284747   \n",
       "2 -0.235085 -0.253578 -0.331460  ...    -0.246319    -0.232623    -0.284747   \n",
       "3 -0.235085 -0.253578 -0.331460  ...    -0.246319    -0.232623    -0.284747   \n",
       "4 -0.235085 -0.253578 -0.331460  ...    -0.246319    -0.232623    -0.284747   \n",
       "\n",
       "   feature1019  feature1020  feature1021  feature1022  feature1023  \\\n",
       "0    -0.255584    -0.253578    -0.235085    -0.237356    -0.195413   \n",
       "1    -0.255584    -0.253578    -0.235085    -0.237356    -0.195413   \n",
       "2    -0.255584    -0.253578    -0.235085     3.322989    -0.195413   \n",
       "3    -0.255584    -0.253578    -0.235085    -0.237356    -0.195413   \n",
       "4    -0.255584    -0.253578    -0.235085    -0.237356    -0.195413   \n",
       "\n",
       "   feature1024  views  \n",
       "0    -0.229504   PLAX  \n",
       "1    -0.229504    A2c  \n",
       "2    -0.229504    A2c  \n",
       "3    -0.229504   PLAX  \n",
       "4    -0.229504    A4c  \n",
       "\n",
       "[5 rows x 1026 columns]"
      ]
     },
     "execution_count": 90,
     "metadata": {},
     "output_type": "execute_result"
    }
   ],
   "source": [
    "df = pd.read_csv(\"AKAZE_new_features_SRAD_480.csv\")\n",
    "df.head()"
   ]
  },
  {
   "cell_type": "code",
   "execution_count": 91,
   "metadata": {},
   "outputs": [
    {
     "data": {
      "text/plain": [
       "480"
      ]
     },
     "execution_count": 91,
     "metadata": {},
     "output_type": "execute_result"
    }
   ],
   "source": [
    "len(df)"
   ]
  },
  {
   "cell_type": "markdown",
   "metadata": {},
   "source": [
    "df = df.replace({\"views\":  {\"PSAX\":1,\"PLAX\":2, \"A4c\":3,\"A2c\":4}})\n",
    "df[\"views\"]"
   ]
  },
  {
   "cell_type": "code",
   "execution_count": 92,
   "metadata": {},
   "outputs": [
    {
     "data": {
      "text/html": [
       "<div>\n",
       "<style scoped>\n",
       "    .dataframe tbody tr th:only-of-type {\n",
       "        vertical-align: middle;\n",
       "    }\n",
       "\n",
       "    .dataframe tbody tr th {\n",
       "        vertical-align: top;\n",
       "    }\n",
       "\n",
       "    .dataframe thead th {\n",
       "        text-align: right;\n",
       "    }\n",
       "</style>\n",
       "<table border=\"1\" class=\"dataframe\">\n",
       "  <thead>\n",
       "    <tr style=\"text-align: right;\">\n",
       "      <th></th>\n",
       "      <th>feature1</th>\n",
       "      <th>feature2</th>\n",
       "      <th>feature3</th>\n",
       "      <th>feature4</th>\n",
       "      <th>feature5</th>\n",
       "      <th>feature6</th>\n",
       "      <th>feature7</th>\n",
       "      <th>feature8</th>\n",
       "      <th>feature9</th>\n",
       "      <th>feature10</th>\n",
       "      <th>...</th>\n",
       "      <th>feature1015</th>\n",
       "      <th>feature1016</th>\n",
       "      <th>feature1017</th>\n",
       "      <th>feature1018</th>\n",
       "      <th>feature1019</th>\n",
       "      <th>feature1020</th>\n",
       "      <th>feature1021</th>\n",
       "      <th>feature1022</th>\n",
       "      <th>feature1023</th>\n",
       "      <th>feature1024</th>\n",
       "    </tr>\n",
       "  </thead>\n",
       "  <tbody>\n",
       "    <tr>\n",
       "      <th>0</th>\n",
       "      <td>-0.285175</td>\n",
       "      <td>-0.308783</td>\n",
       "      <td>-0.289413</td>\n",
       "      <td>-0.209419</td>\n",
       "      <td>-0.333395</td>\n",
       "      <td>-0.229416</td>\n",
       "      <td>-0.235085</td>\n",
       "      <td>-0.253578</td>\n",
       "      <td>2.509623</td>\n",
       "      <td>-0.230420</td>\n",
       "      <td>...</td>\n",
       "      <td>-0.304349</td>\n",
       "      <td>-0.246319</td>\n",
       "      <td>-0.232623</td>\n",
       "      <td>-0.284747</td>\n",
       "      <td>-0.255584</td>\n",
       "      <td>-0.253578</td>\n",
       "      <td>-0.235085</td>\n",
       "      <td>-0.237356</td>\n",
       "      <td>-0.195413</td>\n",
       "      <td>-0.229504</td>\n",
       "    </tr>\n",
       "    <tr>\n",
       "      <th>1</th>\n",
       "      <td>-0.285175</td>\n",
       "      <td>-0.308783</td>\n",
       "      <td>-0.289413</td>\n",
       "      <td>-0.209419</td>\n",
       "      <td>-0.333395</td>\n",
       "      <td>-0.229416</td>\n",
       "      <td>-0.235085</td>\n",
       "      <td>-0.253578</td>\n",
       "      <td>-0.331460</td>\n",
       "      <td>3.121146</td>\n",
       "      <td>...</td>\n",
       "      <td>-0.304349</td>\n",
       "      <td>-0.246319</td>\n",
       "      <td>-0.232623</td>\n",
       "      <td>-0.284747</td>\n",
       "      <td>-0.255584</td>\n",
       "      <td>-0.253578</td>\n",
       "      <td>-0.235085</td>\n",
       "      <td>-0.237356</td>\n",
       "      <td>-0.195413</td>\n",
       "      <td>-0.229504</td>\n",
       "    </tr>\n",
       "    <tr>\n",
       "      <th>2</th>\n",
       "      <td>-0.285175</td>\n",
       "      <td>-0.308783</td>\n",
       "      <td>-0.289413</td>\n",
       "      <td>-0.209419</td>\n",
       "      <td>-0.333395</td>\n",
       "      <td>-0.229416</td>\n",
       "      <td>-0.235085</td>\n",
       "      <td>-0.253578</td>\n",
       "      <td>-0.331460</td>\n",
       "      <td>-0.230420</td>\n",
       "      <td>...</td>\n",
       "      <td>-0.304349</td>\n",
       "      <td>-0.246319</td>\n",
       "      <td>-0.232623</td>\n",
       "      <td>-0.284747</td>\n",
       "      <td>-0.255584</td>\n",
       "      <td>-0.253578</td>\n",
       "      <td>-0.235085</td>\n",
       "      <td>3.322989</td>\n",
       "      <td>-0.195413</td>\n",
       "      <td>-0.229504</td>\n",
       "    </tr>\n",
       "    <tr>\n",
       "      <th>3</th>\n",
       "      <td>-0.285175</td>\n",
       "      <td>-0.308783</td>\n",
       "      <td>-0.289413</td>\n",
       "      <td>-0.209419</td>\n",
       "      <td>-0.333395</td>\n",
       "      <td>-0.229416</td>\n",
       "      <td>-0.235085</td>\n",
       "      <td>-0.253578</td>\n",
       "      <td>-0.331460</td>\n",
       "      <td>-0.230420</td>\n",
       "      <td>...</td>\n",
       "      <td>-0.304349</td>\n",
       "      <td>-0.246319</td>\n",
       "      <td>-0.232623</td>\n",
       "      <td>-0.284747</td>\n",
       "      <td>-0.255584</td>\n",
       "      <td>-0.253578</td>\n",
       "      <td>-0.235085</td>\n",
       "      <td>-0.237356</td>\n",
       "      <td>-0.195413</td>\n",
       "      <td>-0.229504</td>\n",
       "    </tr>\n",
       "    <tr>\n",
       "      <th>4</th>\n",
       "      <td>-0.285175</td>\n",
       "      <td>2.081793</td>\n",
       "      <td>-0.289413</td>\n",
       "      <td>-0.209419</td>\n",
       "      <td>-0.333395</td>\n",
       "      <td>-0.229416</td>\n",
       "      <td>-0.235085</td>\n",
       "      <td>-0.253578</td>\n",
       "      <td>-0.331460</td>\n",
       "      <td>-0.230420</td>\n",
       "      <td>...</td>\n",
       "      <td>-0.304349</td>\n",
       "      <td>-0.246319</td>\n",
       "      <td>-0.232623</td>\n",
       "      <td>-0.284747</td>\n",
       "      <td>-0.255584</td>\n",
       "      <td>-0.253578</td>\n",
       "      <td>-0.235085</td>\n",
       "      <td>-0.237356</td>\n",
       "      <td>-0.195413</td>\n",
       "      <td>-0.229504</td>\n",
       "    </tr>\n",
       "  </tbody>\n",
       "</table>\n",
       "<p>5 rows × 1024 columns</p>\n",
       "</div>"
      ],
      "text/plain": [
       "   feature1  feature2  feature3  feature4  feature5  feature6  feature7  \\\n",
       "0 -0.285175 -0.308783 -0.289413 -0.209419 -0.333395 -0.229416 -0.235085   \n",
       "1 -0.285175 -0.308783 -0.289413 -0.209419 -0.333395 -0.229416 -0.235085   \n",
       "2 -0.285175 -0.308783 -0.289413 -0.209419 -0.333395 -0.229416 -0.235085   \n",
       "3 -0.285175 -0.308783 -0.289413 -0.209419 -0.333395 -0.229416 -0.235085   \n",
       "4 -0.285175  2.081793 -0.289413 -0.209419 -0.333395 -0.229416 -0.235085   \n",
       "\n",
       "   feature8  feature9  feature10  ...  feature1015  feature1016  feature1017  \\\n",
       "0 -0.253578  2.509623  -0.230420  ...    -0.304349    -0.246319    -0.232623   \n",
       "1 -0.253578 -0.331460   3.121146  ...    -0.304349    -0.246319    -0.232623   \n",
       "2 -0.253578 -0.331460  -0.230420  ...    -0.304349    -0.246319    -0.232623   \n",
       "3 -0.253578 -0.331460  -0.230420  ...    -0.304349    -0.246319    -0.232623   \n",
       "4 -0.253578 -0.331460  -0.230420  ...    -0.304349    -0.246319    -0.232623   \n",
       "\n",
       "   feature1018  feature1019  feature1020  feature1021  feature1022  \\\n",
       "0    -0.284747    -0.255584    -0.253578    -0.235085    -0.237356   \n",
       "1    -0.284747    -0.255584    -0.253578    -0.235085    -0.237356   \n",
       "2    -0.284747    -0.255584    -0.253578    -0.235085     3.322989   \n",
       "3    -0.284747    -0.255584    -0.253578    -0.235085    -0.237356   \n",
       "4    -0.284747    -0.255584    -0.253578    -0.235085    -0.237356   \n",
       "\n",
       "   feature1023  feature1024  \n",
       "0    -0.195413    -0.229504  \n",
       "1    -0.195413    -0.229504  \n",
       "2    -0.195413    -0.229504  \n",
       "3    -0.195413    -0.229504  \n",
       "4    -0.195413    -0.229504  \n",
       "\n",
       "[5 rows x 1024 columns]"
      ]
     },
     "execution_count": 92,
     "metadata": {},
     "output_type": "execute_result"
    }
   ],
   "source": [
    "X = df.iloc[:,1:1025]\n",
    "X.head()"
   ]
  },
  {
   "cell_type": "code",
   "execution_count": 94,
   "metadata": {},
   "outputs": [
    {
     "data": {
      "text/plain": [
       "0    PLAX\n",
       "1     A2c\n",
       "2     A2c\n",
       "3    PLAX\n",
       "4     A4c\n",
       "Name: views, dtype: object"
      ]
     },
     "execution_count": 94,
     "metadata": {},
     "output_type": "execute_result"
    }
   ],
   "source": [
    "Y = df[\"views\"]\n",
    "Y.head()"
   ]
  },
  {
   "cell_type": "code",
   "execution_count": 95,
   "metadata": {},
   "outputs": [
    {
     "data": {
      "text/plain": [
       "(480, 1024)"
      ]
     },
     "execution_count": 95,
     "metadata": {},
     "output_type": "execute_result"
    }
   ],
   "source": [
    "x_array = np.array(X)\n",
    "x_array.shape"
   ]
  },
  {
   "cell_type": "code",
   "execution_count": 96,
   "metadata": {},
   "outputs": [],
   "source": [
    "def plotHistogram(im_features=X, no_clusters=1024):\n",
    "    x_scalar = np.arange(no_clusters)\n",
    "    y_scalar = np.array([abs(np.sum(im_features[:,h], dtype=np.int32)) for h in range(no_clusters)])\n",
    "    plt.bar(x_scalar, y_scalar)\n",
    "    plt.xlabel(\"Visual Word Index\")\n",
    "    plt.ylabel(\"Frequency\")\n",
    "    plt.title(\"Complete Vocabulary Generated\")\n",
    "    plt.xticks(x_scalar + 0.4, x_scalar)\n",
    "    plt.savefig(\"D:/Ratheesha/nit_calicut/MTechsem4/models/ml_model_featureextract/hist_akaze.png\")\n",
    "    plt.show()"
   ]
  },
  {
   "cell_type": "code",
   "execution_count": 97,
   "metadata": {},
   "outputs": [
    {
     "data": {
      "image/png": "[encoded data removed]",
      "text/plain": [
       "<Figure size 576x396 with 1 Axes>"
      ]
     },
     "metadata": {},
     "output_type": "display_data"
    }
   ],
   "source": [
    "plotHistogram(x_array)"
   ]
  },
  {
   "cell_type": "code",
   "execution_count": 98,
   "metadata": {},
   "outputs": [
    {
     "data": {
      "text/html": [
       "<div>\n",
       "<style scoped>\n",
       "    .dataframe tbody tr th:only-of-type {\n",
       "        vertical-align: middle;\n",
       "    }\n",
       "\n",
       "    .dataframe tbody tr th {\n",
       "        vertical-align: top;\n",
       "    }\n",
       "\n",
       "    .dataframe thead th {\n",
       "        text-align: right;\n",
       "    }\n",
       "</style>\n",
       "<table border=\"1\" class=\"dataframe\">\n",
       "  <thead>\n",
       "    <tr style=\"text-align: right;\">\n",
       "      <th></th>\n",
       "      <th>Unnamed: 0</th>\n",
       "      <th>feature1</th>\n",
       "      <th>feature2</th>\n",
       "      <th>feature3</th>\n",
       "      <th>feature4</th>\n",
       "      <th>feature5</th>\n",
       "      <th>feature6</th>\n",
       "      <th>feature7</th>\n",
       "      <th>feature8</th>\n",
       "      <th>feature9</th>\n",
       "      <th>...</th>\n",
       "      <th>feature1015</th>\n",
       "      <th>feature1016</th>\n",
       "      <th>feature1017</th>\n",
       "      <th>feature1018</th>\n",
       "      <th>feature1019</th>\n",
       "      <th>feature1020</th>\n",
       "      <th>feature1021</th>\n",
       "      <th>feature1022</th>\n",
       "      <th>feature1023</th>\n",
       "      <th>feature1024</th>\n",
       "    </tr>\n",
       "    <tr>\n",
       "      <th>views</th>\n",
       "      <th></th>\n",
       "      <th></th>\n",
       "      <th></th>\n",
       "      <th></th>\n",
       "      <th></th>\n",
       "      <th></th>\n",
       "      <th></th>\n",
       "      <th></th>\n",
       "      <th></th>\n",
       "      <th></th>\n",
       "      <th></th>\n",
       "      <th></th>\n",
       "      <th></th>\n",
       "      <th></th>\n",
       "      <th></th>\n",
       "      <th></th>\n",
       "      <th></th>\n",
       "      <th></th>\n",
       "      <th></th>\n",
       "      <th></th>\n",
       "      <th></th>\n",
       "    </tr>\n",
       "  </thead>\n",
       "  <tbody>\n",
       "    <tr>\n",
       "      <th>A2c</th>\n",
       "      <td>120</td>\n",
       "      <td>120</td>\n",
       "      <td>120</td>\n",
       "      <td>120</td>\n",
       "      <td>120</td>\n",
       "      <td>120</td>\n",
       "      <td>120</td>\n",
       "      <td>120</td>\n",
       "      <td>120</td>\n",
       "      <td>120</td>\n",
       "      <td>...</td>\n",
       "      <td>120</td>\n",
       "      <td>120</td>\n",
       "      <td>120</td>\n",
       "      <td>120</td>\n",
       "      <td>120</td>\n",
       "      <td>120</td>\n",
       "      <td>120</td>\n",
       "      <td>120</td>\n",
       "      <td>120</td>\n",
       "      <td>120</td>\n",
       "    </tr>\n",
       "    <tr>\n",
       "      <th>A4c</th>\n",
       "      <td>120</td>\n",
       "      <td>120</td>\n",
       "      <td>120</td>\n",
       "      <td>120</td>\n",
       "      <td>120</td>\n",
       "      <td>120</td>\n",
       "      <td>120</td>\n",
       "      <td>120</td>\n",
       "      <td>120</td>\n",
       "      <td>120</td>\n",
       "      <td>...</td>\n",
       "      <td>120</td>\n",
       "      <td>120</td>\n",
       "      <td>120</td>\n",
       "      <td>120</td>\n",
       "      <td>120</td>\n",
       "      <td>120</td>\n",
       "      <td>120</td>\n",
       "      <td>120</td>\n",
       "      <td>120</td>\n",
       "      <td>120</td>\n",
       "    </tr>\n",
       "    <tr>\n",
       "      <th>PLAX</th>\n",
       "      <td>120</td>\n",
       "      <td>120</td>\n",
       "      <td>120</td>\n",
       "      <td>120</td>\n",
       "      <td>120</td>\n",
       "      <td>120</td>\n",
       "      <td>120</td>\n",
       "      <td>120</td>\n",
       "      <td>120</td>\n",
       "      <td>120</td>\n",
       "      <td>...</td>\n",
       "      <td>120</td>\n",
       "      <td>120</td>\n",
       "      <td>120</td>\n",
       "      <td>120</td>\n",
       "      <td>120</td>\n",
       "      <td>120</td>\n",
       "      <td>120</td>\n",
       "      <td>120</td>\n",
       "      <td>120</td>\n",
       "      <td>120</td>\n",
       "    </tr>\n",
       "    <tr>\n",
       "      <th>PSAX</th>\n",
       "      <td>120</td>\n",
       "      <td>120</td>\n",
       "      <td>120</td>\n",
       "      <td>120</td>\n",
       "      <td>120</td>\n",
       "      <td>120</td>\n",
       "      <td>120</td>\n",
       "      <td>120</td>\n",
       "      <td>120</td>\n",
       "      <td>120</td>\n",
       "      <td>...</td>\n",
       "      <td>120</td>\n",
       "      <td>120</td>\n",
       "      <td>120</td>\n",
       "      <td>120</td>\n",
       "      <td>120</td>\n",
       "      <td>120</td>\n",
       "      <td>120</td>\n",
       "      <td>120</td>\n",
       "      <td>120</td>\n",
       "      <td>120</td>\n",
       "    </tr>\n",
       "  </tbody>\n",
       "</table>\n",
       "<p>4 rows × 1025 columns</p>\n",
       "</div>"
      ],
      "text/plain": [
       "       Unnamed: 0  feature1  feature2  feature3  feature4  feature5  feature6  \\\n",
       "views                                                                           \n",
       "A2c           120       120       120       120       120       120       120   \n",
       "A4c           120       120       120       120       120       120       120   \n",
       "PLAX          120       120       120       120       120       120       120   \n",
       "PSAX          120       120       120       120       120       120       120   \n",
       "\n",
       "       feature7  feature8  feature9  ...  feature1015  feature1016  \\\n",
       "views                                ...                             \n",
       "A2c         120       120       120  ...          120          120   \n",
       "A4c         120       120       120  ...          120          120   \n",
       "PLAX        120       120       120  ...          120          120   \n",
       "PSAX        120       120       120  ...          120          120   \n",
       "\n",
       "       feature1017  feature1018  feature1019  feature1020  feature1021  \\\n",
       "views                                                                    \n",
       "A2c            120          120          120          120          120   \n",
       "A4c            120          120          120          120          120   \n",
       "PLAX           120          120          120          120          120   \n",
       "PSAX           120          120          120          120          120   \n",
       "\n",
       "       feature1022  feature1023  feature1024  \n",
       "views                                         \n",
       "A2c            120          120          120  \n",
       "A4c            120          120          120  \n",
       "PLAX           120          120          120  \n",
       "PSAX           120          120          120  \n",
       "\n",
       "[4 rows x 1025 columns]"
      ]
     },
     "execution_count": 98,
     "metadata": {},
     "output_type": "execute_result"
    }
   ],
   "source": [
    "df.groupby(['views']).count()\n",
    "#Y.count('PLAX')\n",
    "#Y.count('A2c')\n",
    "#Y.count('A4c')"
   ]
  },
  {
   "cell_type": "code",
   "execution_count": 99,
   "metadata": {},
   "outputs": [],
   "source": [
    "X_train, X_test, y_train, y_test = train_test_split(X, Y, test_size = 0.25, random_state = 0)"
   ]
  },
  {
   "cell_type": "code",
   "execution_count": 100,
   "metadata": {},
   "outputs": [
    {
     "name": "stdout",
     "output_type": "stream",
     "text": [
      "360\n",
      "120\n"
     ]
    }
   ],
   "source": [
    "print(len(X_train))\n",
    "print(len(X_test))"
   ]
  },
  {
   "cell_type": "markdown",
   "metadata": {},
   "source": [
    "# svm"
   ]
  },
  {
   "cell_type": "code",
   "execution_count": 101,
   "metadata": {},
   "outputs": [],
   "source": [
    "parameters = [{'kernel':('linear', 'rbf','poly'), 'degree':[2,3,4,5],'C':[1, 10, 50, 100], 'gamma':[x for x in range(1,100,10)]}]"
   ]
  },
  {
   "cell_type": "code",
   "execution_count": 102,
   "metadata": {},
   "outputs": [
    {
     "name": "stdout",
     "output_type": "stream",
     "text": [
      "GridSearchCV(cv=None, error_score=nan,\n",
      "             estimator=SVC(C=1.0, break_ties=False, cache_size=200,\n",
      "                           class_weight=None, coef0=0.0,\n",
      "                           decision_function_shape='ovr', degree=3,\n",
      "                           gamma='scale', kernel='rbf', max_iter=-1,\n",
      "                           probability=False, random_state=None, shrinking=True,\n",
      "                           tol=0.001, verbose=False),\n",
      "             iid='deprecated', n_jobs=None,\n",
      "             param_grid=[{'C': [1, 10, 50, 100], 'degree': [2, 3, 4, 5],\n",
      "                          'gamma': [1, 11, 21, 31, 41, 51, 61, 71, 81, 91],\n",
      "                          'kernel': ('linear', 'rbf', 'poly')}],\n",
      "             pre_dispatch='2*n_jobs', refit=True, return_train_score=False,\n",
      "             scoring=None, verbose=0)\n"
     ]
    }
   ],
   "source": [
    "svc = svm.SVC()\n",
    "#Fit the model for the data\n",
    "classifier = GridSearchCV(svc, parameters)\n",
    "classifier.fit(X_train, y_train)\n",
    "\n",
    "#Make the prediction\n",
    "y_pred = classifier.predict(X_test)\n",
    "print(classifier)\n",
    "# summarize the results of the grid search\n"
   ]
  },
  {
   "cell_type": "code",
   "execution_count": 103,
   "metadata": {},
   "outputs": [
    {
     "name": "stdout",
     "output_type": "stream",
     "text": [
      "1.0\n",
      "{'C': 1, 'degree': 2, 'gamma': 1, 'kernel': 'linear'}\n"
     ]
    }
   ],
   "source": [
    "print(classifier.best_score_)\n",
    "print(classifier.best_params_)"
   ]
  },
  {
   "cell_type": "code",
   "execution_count": 27,
   "metadata": {},
   "outputs": [
    {
     "data": {
      "text/plain": [
       "array(['A2c', 'A4c', 'A4c', 'PSAX', 'PSAX', 'PSAX', 'PLAX', 'PSAX',\n",
       "       'PSAX', 'PSAX', 'A4c', 'A2c', 'PSAX', 'A2c', 'A4c', 'A4c', 'A4c',\n",
       "       'PLAX', 'A4c', 'PSAX', 'PSAX', 'PLAX', 'PSAX', 'A2c', 'PSAX',\n",
       "       'A4c', 'A4c', 'PLAX', 'PLAX', 'PSAX', 'PSAX', 'A2c', 'PLAX',\n",
       "       'PSAX', 'PSAX', 'PSAX', 'A2c', 'A4c', 'PSAX', 'A2c', 'PSAX',\n",
       "       'PLAX', 'A2c', 'PSAX', 'PLAX', 'PSAX', 'PSAX', 'PSAX', 'PSAX',\n",
       "       'A4c', 'PSAX', 'PLAX', 'PSAX', 'PLAX', 'PLAX', 'PSAX', 'PLAX',\n",
       "       'A4c', 'A4c', 'A4c', 'A4c', 'A2c', 'A4c', 'PSAX', 'A2c', 'PSAX',\n",
       "       'A4c', 'PSAX', 'PSAX', 'PLAX', 'PLAX', 'A2c', 'A2c', 'PSAX',\n",
       "       'PSAX', 'PSAX', 'PSAX', 'PSAX', 'PSAX', 'A2c', 'A2c', 'PSAX',\n",
       "       'A4c', 'A4c', 'PSAX', 'A4c', 'A4c', 'PLAX', 'PSAX', 'PSAX', 'PSAX',\n",
       "       'A2c', 'A2c', 'PSAX', 'A4c', 'PSAX', 'A4c', 'A2c', 'PSAX', 'PSAX',\n",
       "       'A2c', 'PSAX', 'PSAX', 'A4c', 'PSAX', 'PSAX', 'PSAX', 'PLAX',\n",
       "       'PLAX', 'A4c', 'A4c', 'PSAX', 'PSAX', 'PLAX', 'PLAX', 'A4c', 'A2c',\n",
       "       'A2c', 'PLAX', 'PSAX'], dtype=object)"
      ]
     },
     "execution_count": 27,
     "metadata": {},
     "output_type": "execute_result"
    }
   ],
   "source": [
    "y_pred"
   ]
  },
  {
   "cell_type": "code",
   "execution_count": 28,
   "metadata": {},
   "outputs": [
    {
     "name": "stdout",
     "output_type": "stream",
     "text": [
      "no of PLAX : -11\n",
      "no of PSAX : 30\n",
      "no of A4C : -4\n",
      "no of A2C : -15\n"
     ]
    }
   ],
   "source": [
    "print(\"no of PLAX :\",list(y_pred).count('PLAX')-list(y_test).count('PLAX'))\n",
    "print(\"no of PSAX :\",list(y_pred).count('PSAX')-list(y_test).count('PSAX'))\n",
    "print(\"no of A4C :\",list(y_pred).count('A4c')-list(y_test).count('A4c'))\n",
    "print(\"no of A2C :\",list(y_pred).count('A2c')-list(y_test).count('A2c'))"
   ]
  },
  {
   "cell_type": "code",
   "execution_count": 29,
   "metadata": {},
   "outputs": [
    {
     "name": "stdout",
     "output_type": "stream",
     "text": [
      "no of PLAX : 31\n",
      "no of PSAX : 23\n",
      "no of A4C : 31\n",
      "no of A2C : 35\n"
     ]
    }
   ],
   "source": [
    "print(\"no of PLAX :\",list(y_test).count('PLAX'))\n",
    "print(\"no of PSAX :\",list(y_test).count('PSAX'))\n",
    "print(\"no of A4C :\",list(y_test).count('A4c'))\n",
    "print(\"no of A2C :\",list(y_test).count('A2c'))"
   ]
  },
  {
   "cell_type": "code",
   "execution_count": 30,
   "metadata": {},
   "outputs": [
    {
     "data": {
      "text/plain": [
       "15      A2c\n",
       "124     A4c\n",
       "141     A4c\n",
       "263    PLAX\n",
       "170     A2c\n",
       "       ... \n",
       "463     A4c\n",
       "198     A2c\n",
       "155     A2c\n",
       "221    PLAX\n",
       "450    PSAX\n",
       "Name: views, Length: 120, dtype: object"
      ]
     },
     "execution_count": 30,
     "metadata": {},
     "output_type": "execute_result"
    }
   ],
   "source": [
    "y_test"
   ]
  },
  {
   "cell_type": "code",
   "execution_count": 33,
   "metadata": {},
   "outputs": [
    {
     "data": {
      "text/plain": [
       "0.75"
      ]
     },
     "execution_count": 33,
     "metadata": {},
     "output_type": "execute_result"
    }
   ],
   "source": [
    "accuracy_score(y_test, y_pred)"
   ]
  },
  {
   "cell_type": "code",
   "execution_count": 34,
   "metadata": {},
   "outputs": [
    {
     "data": {
      "text/plain": [
       "1.0"
      ]
     },
     "execution_count": 34,
     "metadata": {},
     "output_type": "execute_result"
    }
   ],
   "source": [
    "y_pred_train = classifier.predict(X_train)\n",
    "accuracy_score(y_train, y_pred_train)"
   ]
  },
  {
   "cell_type": "code",
   "execution_count": 35,
   "metadata": {},
   "outputs": [
    {
     "name": "stdout",
     "output_type": "stream",
     "text": [
      "[[20  0  0 15]\n",
      " [ 0 27  0  4]\n",
      " [ 0  0 20 11]\n",
      " [ 0  0  0 23]]\n",
      "Accuracy: 60.28 %\n",
      "Standard Deviation: 4.13 %\n"
     ]
    }
   ],
   "source": [
    "\n",
    "cm = confusion_matrix(y_test, y_pred)\n",
    "print(cm)\n",
    "\n",
    "from sklearn.model_selection import cross_val_score\n",
    "accuracies = cross_val_score(estimator = classifier, X = X_train, y = y_train, cv = 10)\n",
    "print(\"Accuracy: {:.2f} %\".format(accuracies.mean()*100))\n",
    "print(\"Standard Deviation: {:.2f} %\".format(accuracies.std()*100))"
   ]
  },
  {
   "cell_type": "code",
   "execution_count": 36,
   "metadata": {},
   "outputs": [
    {
     "name": "stdout",
     "output_type": "stream",
     "text": [
      "              precision    recall  f1-score   support\n",
      "\n",
      "         A2C       1.00      0.57      0.73        35\n",
      "         A4C       1.00      0.87      0.93        31\n",
      "        PLAX       1.00      0.65      0.78        31\n",
      "        PSAX       0.43      1.00      0.61        23\n",
      "\n",
      "    accuracy                           0.75       120\n",
      "   macro avg       0.86      0.77      0.76       120\n",
      "weighted avg       0.89      0.75      0.77       120\n",
      "\n"
     ]
    }
   ],
   "source": [
    "print(classification_report(y_test, y_pred,target_names=['A2C','A4C','PLAX','PSAX']))"
   ]
  },
  {
   "cell_type": "code",
   "execution_count": 37,
   "metadata": {},
   "outputs": [
    {
     "name": "stderr",
     "output_type": "stream",
     "text": [
      "C:\\Users\\hp\\Anaconda3\\lib\\site-packages\\sklearn\\metrics\\_classification.py:1317: UserWarning: Note that pos_label (set to 0) is ignored when average != 'binary' (got 'macro'). You may use labels=[pos_label] to specify a single positive class.\n",
      "  % (pos_label, average), UserWarning)\n"
     ]
    },
    {
     "data": {
      "text/plain": [
       "0.7718894009216589"
      ]
     },
     "execution_count": 37,
     "metadata": {},
     "output_type": "execute_result"
    }
   ],
   "source": [
    "from sklearn import metrics\n",
    "recall_specificity1 = metrics.recall_score(y_test, y_pred, pos_label=0,average='macro')\n",
    "recall_specificity1"
   ]
  },
  {
   "cell_type": "markdown",
   "metadata": {},
   "source": [
    "Learning curve.\n",
    "\n",
    "A learning curve is a plot of model learning performance over experience or time.\n",
    "\n",
    "Learning curves are a widely used diagnostic tool in machine learning for algorithms that learn from a training dataset incrementally. The model can be evaluated on the training dataset and on a hold out validation dataset after each update during training and plots of the measured performance can created to show learning curves.\n",
    "\n",
    "There are three common dynamics that you are likely to observe in learning curves; they are:\n",
    "\n",
    "Underfit.\n",
    "Overfit.\n",
    "Good Fit."
   ]
  },
  {
   "cell_type": "markdown",
   "metadata": {},
   "source": [
    "def plot_learning_curve(estimator, title, X, y, ylim=None, cv=None,\n",
    "                        n_jobs=1, train_sizes=np.linspace(.1, 1.0, 5)):\n",
    "    plt.figure()\n",
    "    plt.title(title)\n",
    "    if ylim is not None:\n",
    "        plt.ylim(*ylim)\n",
    "    plt.xlabel(\"Training examples\")\n",
    "    plt.ylabel(\"Score\")\n",
    "    train_sizes, train_scores, test_scores = learning_curve(\n",
    "        estimator, X, y, cv=cv, n_jobs=n_jobs, train_sizes=train_sizes)\n",
    "    train_scores_mean = np.mean(train_scores, axis=1)\n",
    "    train_scores_std = np.std(train_scores, axis=1)\n",
    "    test_scores_mean = np.mean(test_scores, axis=1)\n",
    "    test_scores_std = np.std(test_scores, axis=1)\n",
    "    plt.grid()\n",
    "    \n",
    "    plt.fill_between(train_sizes, train_scores_mean - train_scores_std,\n",
    "                     train_scores_mean + train_scores_std, alpha=0.1,\n",
    "                     color=\"r\")\n",
    "    plt.fill_between(train_sizes, test_scores_mean - test_scores_std,\n",
    "                     test_scores_mean + test_scores_std, alpha=0.1, color=\"g\")\n",
    "    plt.plot(train_sizes, train_scores_mean, 'o-', color=\"r\",\n",
    "             label=\"Training score\")\n",
    "    plt.plot(train_sizes, test_scores_mean, 'o-', color=\"g\",\n",
    "             label=\"Cross-validation score\")\n",
    "    plt.legend(loc=\"best\")\n",
    "    plt.show()"
   ]
  },
  {
   "cell_type": "markdown",
   "metadata": {},
   "source": [
    "plot_learning_curve(classifier, \"learning curves of svm\", X_train, y_train, ylim=None, cv=5,\n",
    "                        n_jobs=1, train_sizes=np.linspace(.1, 1.0, 9))"
   ]
  },
  {
   "cell_type": "markdown",
   "metadata": {},
   "source": [
    "from sklearn import metrics\n",
    "sns.set('talk', 'whitegrid', 'dark', font_scale=1, font='Ricty',rc={\"lines.linewidth\": 2, 'grid.linestyle': '--'})\n",
    "def plotAUC(truth, pred, lab):\n",
    "    fpr, tpr, _ = metrics.roc_curve(truth,pred)\n",
    "    roc_auc = metrics.auc(fpr, tpr)\n",
    "    lw = 2\n",
    "    c = (np.random.rand(), np.random.rand(), np.random.rand())\n",
    "    plt.plot(fpr, tpr, color= c,lw=lw, label= lab +'(AUC = %0.2f)' % roc_auc)\n",
    "    plt.plot([0, 1], [0, 1], color='navy', lw=lw, linestyle='--')\n",
    "    plt.xlim([0.0, 1.0])\n",
    "    plt.ylim([0.0, 1.0])\n",
    "    plt.xlabel('False Positive Rate')\n",
    "    plt.ylabel('True Positive Rate')\n",
    "    plt.title('ROC curve') #Receiver Operating Characteristic \n",
    "    plt.legend(loc=\"lower right\")\n",
    "    plt.show()"
   ]
  },
  {
   "cell_type": "markdown",
   "metadata": {},
   "source": [
    "#plotAUC(y_test,y_pred,\"ROC \")"
   ]
  },
  {
   "cell_type": "code",
   "execution_count": 47,
   "metadata": {},
   "outputs": [
    {
     "data": {
      "image/png": "[encoded data removed]",
      "text/plain": [
       "<Figure size 576x396 with 1 Axes>"
      ]
     },
     "metadata": {},
     "output_type": "display_data"
    }
   ],
   "source": [
    "visualizer = ROCAUC(classifier,micro=False,macro=False, classes=['A2C','A4C','PLAX','PSAX'])\n",
    "visualizer.fit(X_train, y_train)        # Fit the training data to the visualizer\n",
    "visualizer.score(X_test, y_test)        # Evaluate the model on the test data\n",
    "visualizer.show(\"D:/Ratheesha/nit_calicut/MTechsem4/models/ml_model_featureextract/svc_roccurve_akaze_480.png\")\n",
    "plt.savefig(\"svc_roccurve_akaze_480\")\n",
    "plt.show()"
   ]
  },
  {
   "cell_type": "code",
   "execution_count": 48,
   "metadata": {},
   "outputs": [],
   "source": [
    "import seaborn as sns\n",
    "def bothconfusion_m(cm):\n",
    "    sns.heatmap(cm, annot=True,fmt='.2f',cmap='Oranges',xticklabels=['A2C','A4C','PLAX','PSAX'],yticklabels=['A2C','A4C','PLAX','PSAX'])\n",
    "    plt.title(\"CONFUSION MATRIX FOR VIEW CLASSIFICATION\")\n",
    "    plt.ylim(4.0,0)\n",
    "    plt.show()\n",
    "    sns.heatmap(cm/np.sum(cm), annot=True, fmt='.2%', cmap='Oranges',xticklabels=['A2C','A4C','PLAX','PSAX'],yticklabels=['A2C','A4C','PLAX','PSAX'])\n",
    "    plt.title(\"NORMALIZED CONFUSION MATRIX FOR RF CLASSIFIER USING AKAZE(%)\")\n",
    "    plt.ylim(4.0,0)\n",
    "    plt.show()\n",
    "    "
   ]
  },
  {
   "cell_type": "code",
   "execution_count": 49,
   "metadata": {},
   "outputs": [
    {
     "data": {
      "image/png": "[encoded data removed]",
      "text/plain": [
       "<Figure size 576x396 with 2 Axes>"
      ]
     },
     "metadata": {},
     "output_type": "display_data"
    },
    {
     "data": {
      "image/png": "[encoded data removed]",
      "text/plain": [
       "<Figure size 576x396 with 2 Axes>"
      ]
     },
     "metadata": {},
     "output_type": "display_data"
    }
   ],
   "source": [
    "bothconfusion_m(cm)"
   ]
  },
  {
   "cell_type": "markdown",
   "metadata": {},
   "source": [
    "# DECISION TREE"
   ]
  },
  {
   "cell_type": "code",
   "execution_count": 50,
   "metadata": {},
   "outputs": [],
   "source": [
    "from sklearn.tree import DecisionTreeClassifier"
   ]
  },
  {
   "cell_type": "code",
   "execution_count": 51,
   "metadata": {},
   "outputs": [
    {
     "data": {
      "text/plain": [
       "array(['A2c', 'A4c', 'A4c', 'A2c', 'A2c', 'PSAX', 'PLAX', 'PSAX', 'PSAX',\n",
       "       'PSAX', 'A4c', 'A2c', 'A4c', 'A2c', 'A4c', 'A4c', 'A4c', 'PLAX',\n",
       "       'A4c', 'PSAX', 'PLAX', 'PLAX', 'PSAX', 'A2c', 'PSAX', 'A4c', 'A4c',\n",
       "       'PLAX', 'PLAX', 'PLAX', 'A2c', 'A2c', 'PLAX', 'A2c', 'PLAX',\n",
       "       'PSAX', 'A2c', 'A4c', 'PSAX', 'A2c', 'PLAX', 'PLAX', 'A2c', 'A2c',\n",
       "       'PLAX', 'A2c', 'PLAX', 'A2c', 'PSAX', 'A4c', 'PSAX', 'PLAX', 'A4c',\n",
       "       'PLAX', 'PLAX', 'A2c', 'PLAX', 'A4c', 'A4c', 'A4c', 'A4c', 'A2c',\n",
       "       'A4c', 'PSAX', 'A2c', 'A2c', 'A4c', 'PSAX', 'PSAX', 'PLAX', 'PLAX',\n",
       "       'A2c', 'A2c', 'PSAX', 'A2c', 'PSAX', 'A2c', 'A2c', 'A2c', 'A2c',\n",
       "       'A2c', 'A2c', 'A4c', 'A4c', 'PSAX', 'A4c', 'A4c', 'PLAX', 'PSAX',\n",
       "       'A2c', 'A4c', 'A2c', 'A2c', 'A2c', 'A4c', 'PLAX', 'PLAX', 'A2c',\n",
       "       'A4c', 'PLAX', 'A2c', 'PLAX', 'A4c', 'A4c', 'A2c', 'PSAX', 'A2c',\n",
       "       'PLAX', 'PLAX', 'A4c', 'A4c', 'PSAX', 'PSAX', 'PLAX', 'PLAX',\n",
       "       'A4c', 'A2c', 'A2c', 'PLAX', 'PSAX'], dtype=object)"
      ]
     },
     "execution_count": 51,
     "metadata": {},
     "output_type": "execute_result"
    }
   ],
   "source": [
    "dt_classifier = DecisionTreeClassifier()#MAX_DEPTH =3\n",
    "\n",
    "dt_classifier.fit(X_train, y_train)\n",
    "\n",
    "#Make the prediction\n",
    "y_pred1 = dt_classifier.predict(X_test)\n",
    "y_pred1"
   ]
  },
  {
   "cell_type": "code",
   "execution_count": 52,
   "metadata": {},
   "outputs": [
    {
     "name": "stdout",
     "output_type": "stream",
     "text": [
      "the training accuracy for view classification :  1.0\n",
      "the test accuracy for view classification :  0.9583333333333334\n"
     ]
    }
   ],
   "source": [
    "y_pred_train1 = dt_classifier.predict(X_train)\n",
    "print(\"the training accuracy for view classification : \",accuracy_score(y_train, y_pred_train1))\n",
    "print(\"the test accuracy for view classification : \",accuracy_score(y_test, y_pred1))"
   ]
  },
  {
   "cell_type": "code",
   "execution_count": 53,
   "metadata": {},
   "outputs": [
    {
     "name": "stderr",
     "output_type": "stream",
     "text": [
      "C:\\Users\\hp\\Anaconda3\\lib\\site-packages\\sklearn\\metrics\\_classification.py:1317: UserWarning: Note that pos_label (set to 0) is ignored when average != 'binary' (got 'macro'). You may use labels=[pos_label] to specify a single positive class.\n",
      "  % (pos_label, average), UserWarning)\n"
     ]
    },
    {
     "data": {
      "text/plain": [
       "0.9568723702664796"
      ]
     },
     "execution_count": 53,
     "metadata": {},
     "output_type": "execute_result"
    }
   ],
   "source": [
    "recall_specificity1 = metrics.recall_score(y_test, y_pred1, pos_label=0,average='macro')\n",
    "recall_specificity1"
   ]
  },
  {
   "cell_type": "code",
   "execution_count": 54,
   "metadata": {},
   "outputs": [
    {
     "name": "stdout",
     "output_type": "stream",
     "text": [
      "              precision    recall  f1-score   support\n",
      "\n",
      "         A2C       0.92      1.00      0.96        35\n",
      "         A4C       0.97      0.97      0.97        31\n",
      "        PLAX       0.97      0.90      0.93        31\n",
      "        PSAX       1.00      0.96      0.98        23\n",
      "\n",
      "    accuracy                           0.96       120\n",
      "   macro avg       0.96      0.96      0.96       120\n",
      "weighted avg       0.96      0.96      0.96       120\n",
      "\n"
     ]
    }
   ],
   "source": [
    "print(classification_report(y_test, y_pred1,target_names=['A2C','A4C','PLAX','PSAX']))"
   ]
  },
  {
   "cell_type": "code",
   "execution_count": 56,
   "metadata": {},
   "outputs": [
    {
     "data": {
      "image/png": "[encoded data removed]",
      "text/plain": [
       "<Figure size 576x396 with 1 Axes>"
      ]
     },
     "metadata": {},
     "output_type": "display_data"
    }
   ],
   "source": [
    "visualizer2 = ROCAUC(dt_classifier,micro=False,macro=False, classes=['A2C','A4C','PLAX','PSAX'])\n",
    "visualizer2.fit(X_train, y_train)        # Fit the training data to the visualizer\n",
    "visualizer2.score(X_test, y_test)        # Evaluate the model on the test data\n",
    "visualizer2.show(\"D:/Ratheesha/nit_calicut/MTechsem4/models/ml_model_featureextract/dt_roccurve_akaze_480\")\n",
    "#plt.savefig()\n",
    "plt.show()"
   ]
  },
  {
   "cell_type": "code",
   "execution_count": 57,
   "metadata": {},
   "outputs": [
    {
     "name": "stdout",
     "output_type": "stream",
     "text": [
      "[[35  0  0  0]\n",
      " [ 0 30  1  0]\n",
      " [ 2  1 28  0]\n",
      " [ 1  0  0 22]]\n"
     ]
    }
   ],
   "source": [
    "cm_dt = confusion_matrix(y_test, y_pred1)\n",
    "print(cm_dt)"
   ]
  },
  {
   "cell_type": "code",
   "execution_count": 58,
   "metadata": {},
   "outputs": [
    {
     "data": {
      "image/png": "[encoded data removed]",
      "text/plain": [
       "<Figure size 576x396 with 2 Axes>"
      ]
     },
     "metadata": {},
     "output_type": "display_data"
    },
    {
     "data": {
      "image/png": "[encoded data removed]",
      "text/plain": [
       "<Figure size 576x396 with 2 Axes>"
      ]
     },
     "metadata": {},
     "output_type": "display_data"
    }
   ],
   "source": [
    "bothconfusion_m(cm_dt)"
   ]
  },
  {
   "cell_type": "markdown",
   "metadata": {},
   "source": [
    "# RANDOM FOREST CLASSIFIER"
   ]
  },
  {
   "cell_type": "code",
   "execution_count": 59,
   "metadata": {},
   "outputs": [],
   "source": [
    "from sklearn.ensemble import RandomForestClassifier"
   ]
  },
  {
   "cell_type": "code",
   "execution_count": 60,
   "metadata": {},
   "outputs": [
    {
     "data": {
      "text/plain": [
       "array(['A2c', 'A4c', 'A4c', 'PLAX', 'A2c', 'PSAX', 'PLAX', 'PSAX', 'PSAX',\n",
       "       'PSAX', 'A4c', 'A2c', 'A4c', 'A2c', 'A4c', 'A4c', 'A4c', 'PLAX',\n",
       "       'A4c', 'PSAX', 'PLAX', 'PLAX', 'PSAX', 'A2c', 'PSAX', 'A4c', 'A4c',\n",
       "       'PLAX', 'PLAX', 'PLAX', 'A2c', 'A2c', 'PLAX', 'PSAX', 'PLAX',\n",
       "       'PSAX', 'A2c', 'A4c', 'PSAX', 'A2c', 'PLAX', 'PLAX', 'A2c', 'A2c',\n",
       "       'PLAX', 'A2c', 'PLAX', 'A2c', 'PSAX', 'A4c', 'PSAX', 'PLAX', 'A4c',\n",
       "       'PLAX', 'PLAX', 'A2c', 'PLAX', 'A4c', 'A4c', 'A4c', 'A4c', 'A2c',\n",
       "       'A4c', 'PSAX', 'A2c', 'A2c', 'A4c', 'PSAX', 'PSAX', 'PLAX', 'PLAX',\n",
       "       'A2c', 'A2c', 'PSAX', 'A2c', 'PSAX', 'A2c', 'A2c', 'A2c', 'A2c',\n",
       "       'A2c', 'A2c', 'A4c', 'A4c', 'PSAX', 'A4c', 'A4c', 'PLAX', 'PSAX',\n",
       "       'A2c', 'A4c', 'A2c', 'A2c', 'PLAX', 'A4c', 'PLAX', 'A4c', 'A2c',\n",
       "       'A4c', 'PLAX', 'A2c', 'PLAX', 'PLAX', 'A4c', 'A2c', 'PSAX', 'A2c',\n",
       "       'PLAX', 'PLAX', 'A4c', 'A4c', 'PSAX', 'PSAX', 'PLAX', 'PLAX',\n",
       "       'A4c', 'A2c', 'A2c', 'PLAX', 'PSAX'], dtype=object)"
      ]
     },
     "execution_count": 60,
     "metadata": {},
     "output_type": "execute_result"
    }
   ],
   "source": [
    "#Create a Gaussian Classifier\n",
    "clf_rf=RandomForestClassifier(n_estimators=50)\n",
    "\n",
    "#Train the model using the training sets y_pred=clf.predict(X_test)\n",
    "clf_rf.fit(X_train,y_train)\n",
    "\n",
    "y_pred_rf=clf_rf.predict(X_test)\n",
    "y_pred_rf"
   ]
  },
  {
   "cell_type": "code",
   "execution_count": 61,
   "metadata": {},
   "outputs": [
    {
     "name": "stdout",
     "output_type": "stream",
     "text": [
      "the training accuracy for view classification :  1.0\n",
      "the test accuracy for view classification :  1.0\n"
     ]
    }
   ],
   "source": [
    "y_pred_train_rf = clf_rf.predict(X_train)\n",
    "print(\"the training accuracy for view classification : \",accuracy_score(y_train, y_pred_train_rf))\n",
    "print(\"the test accuracy for view classification : \",accuracy_score(y_test, y_pred_rf))"
   ]
  },
  {
   "cell_type": "code",
   "execution_count": 62,
   "metadata": {},
   "outputs": [
    {
     "name": "stdout",
     "output_type": "stream",
     "text": [
      "              precision    recall  f1-score   support\n",
      "\n",
      "         A2C       1.00      1.00      1.00        35\n",
      "         A4C       1.00      1.00      1.00        31\n",
      "        PLAX       1.00      1.00      1.00        31\n",
      "        PSAX       1.00      1.00      1.00        23\n",
      "\n",
      "    accuracy                           1.00       120\n",
      "   macro avg       1.00      1.00      1.00       120\n",
      "weighted avg       1.00      1.00      1.00       120\n",
      "\n"
     ]
    }
   ],
   "source": [
    "print(classification_report(y_test, y_pred_rf,target_names=['A2C','A4C','PLAX','PSAX']))"
   ]
  },
  {
   "cell_type": "code",
   "execution_count": 63,
   "metadata": {},
   "outputs": [
    {
     "name": "stderr",
     "output_type": "stream",
     "text": [
      "C:\\Users\\hp\\Anaconda3\\lib\\site-packages\\sklearn\\metrics\\_classification.py:1317: UserWarning: Note that pos_label (set to 0) is ignored when average != 'binary' (got 'macro'). You may use labels=[pos_label] to specify a single positive class.\n",
      "  % (pos_label, average), UserWarning)\n"
     ]
    },
    {
     "data": {
      "text/plain": [
       "1.0"
      ]
     },
     "execution_count": 63,
     "metadata": {},
     "output_type": "execute_result"
    }
   ],
   "source": [
    "recall_specificity4 = metrics.recall_score(y_test, y_pred_rf, pos_label=0,average='macro')\n",
    "recall_specificity4"
   ]
  },
  {
   "cell_type": "code",
   "execution_count": 64,
   "metadata": {},
   "outputs": [
    {
     "data": {
      "image/png": "[encoded data removed]",
      "text/plain": [
       "<Figure size 576x396 with 1 Axes>"
      ]
     },
     "metadata": {},
     "output_type": "display_data"
    }
   ],
   "source": [
    "visualizer3 = ROCAUC(clf_rf,micro=False,macro=False, classes=['A2C','A4C','PLAX','PSAX'])\n",
    "visualizer3.fit(X_train, y_train)        # Fit the training data to the visualizer\n",
    "visualizer3.score(X_test, y_test)        # Evaluate the model on the test data\n",
    "#plt.figure(figsize=(5,5))\n",
    "#plt.savefig(\"D:/Ratheesha/MTechsem4/models/ml_model_featureextract/rf_roccurve_akaze\",)\n",
    "visualizer3.show(\"D:/Ratheesha/nit_calicut/MTechsem4/models/ml_model_featureextract/rf_roccurve_akaze\")\n",
    "plt.show()\n"
   ]
  },
  {
   "cell_type": "code",
   "execution_count": 65,
   "metadata": {},
   "outputs": [
    {
     "name": "stdout",
     "output_type": "stream",
     "text": [
      "[[35  0  0  0]\n",
      " [ 0 31  0  0]\n",
      " [ 0  0 31  0]\n",
      " [ 0  0  0 23]]\n"
     ]
    }
   ],
   "source": [
    "cm_rf = confusion_matrix(y_test, y_pred_rf)\n",
    "print(cm_rf)"
   ]
  },
  {
   "cell_type": "code",
   "execution_count": 66,
   "metadata": {},
   "outputs": [
    {
     "data": {
      "image/png": "[encoded data removed]",
      "text/plain": [
       "<Figure size 576x396 with 2 Axes>"
      ]
     },
     "metadata": {},
     "output_type": "display_data"
    },
    {
     "data": {
      "image/png": "[encoded data removed]",
      "text/plain": [
       "<Figure size 576x396 with 2 Axes>"
      ]
     },
     "metadata": {},
     "output_type": "display_data"
    }
   ],
   "source": [
    "bothconfusion_m(cm_rf)"
   ]
  },
  {
   "cell_type": "code",
   "execution_count": null,
   "metadata": {},
   "outputs": [],
   "source": []
  }
 ],
 "metadata": {
  "kernelspec": {
   "display_name": "Python 3",
   "language": "python",
   "name": "python3"
  }
 },
 "nbformat": 4,
 "nbformat_minor": 2
}
